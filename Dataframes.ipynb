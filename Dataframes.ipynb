{
  "nbformat": 4,
  "nbformat_minor": 0,
  "metadata": {
    "colab": {
      "name": "Dataframes",
      "provenance": [],
      "mount_file_id": "1CozyoCB1oRv2XoIOJEua2fEvxvYyAPRl",
      "authorship_tag": "ABX9TyPCI79/KSAxMK+jq1o7MQsO",
      "include_colab_link": true
    },
    "kernelspec": {
      "name": "python3",
      "display_name": "Python 3"
    }
  },
  "cells": [
    {
      "cell_type": "markdown",
      "metadata": {
        "id": "view-in-github",
        "colab_type": "text"
      },
      "source": [
        "<a href=\"https://colab.research.google.com/github/Bickmore664/newGITTest/blob/master/Dataframes.ipynb\" target=\"_parent\"><img src=\"https://colab.research.google.com/assets/colab-badge.svg\" alt=\"Open In Colab\"/></a>"
      ]
    },
    {
      "cell_type": "code",
      "metadata": {
        "colab": {
          "base_uri": "https://localhost:8080/",
          "height": 173
        },
        "id": "HSt07aimcVb-",
        "outputId": "92c9ae8d-5a79-41be-e664-017b4c888659"
      },
      "source": [
        "import pandas as pd\n",
        "\n",
        "HeartRates = {'participant': ['p1', 'p2', 'p3', 'p4'], 'hr1': [98.1, 78, 65, 64], 'hr2': [110, 120, 129, 141], 'hr3': [76, 87, 77, 59]}\n",
        "df = pd.DataFrame(HeartRates)\n",
        "\n",
        "df\n"
      ],
      "execution_count": null,
      "outputs": [
        {
          "output_type": "execute_result",
          "data": {
            "text/html": [
              "<div>\n",
              "<style scoped>\n",
              "    .dataframe tbody tr th:only-of-type {\n",
              "        vertical-align: middle;\n",
              "    }\n",
              "\n",
              "    .dataframe tbody tr th {\n",
              "        vertical-align: top;\n",
              "    }\n",
              "\n",
              "    .dataframe thead th {\n",
              "        text-align: right;\n",
              "    }\n",
              "</style>\n",
              "<table border=\"1\" class=\"dataframe\">\n",
              "  <thead>\n",
              "    <tr style=\"text-align: right;\">\n",
              "      <th></th>\n",
              "      <th>participant</th>\n",
              "      <th>hr1</th>\n",
              "      <th>hr2</th>\n",
              "      <th>hr3</th>\n",
              "    </tr>\n",
              "  </thead>\n",
              "  <tbody>\n",
              "    <tr>\n",
              "      <th>0</th>\n",
              "      <td>p1</td>\n",
              "      <td>98.1</td>\n",
              "      <td>110</td>\n",
              "      <td>76</td>\n",
              "    </tr>\n",
              "    <tr>\n",
              "      <th>1</th>\n",
              "      <td>p2</td>\n",
              "      <td>78.0</td>\n",
              "      <td>120</td>\n",
              "      <td>87</td>\n",
              "    </tr>\n",
              "    <tr>\n",
              "      <th>2</th>\n",
              "      <td>p3</td>\n",
              "      <td>65.0</td>\n",
              "      <td>129</td>\n",
              "      <td>77</td>\n",
              "    </tr>\n",
              "    <tr>\n",
              "      <th>3</th>\n",
              "      <td>p4</td>\n",
              "      <td>64.0</td>\n",
              "      <td>141</td>\n",
              "      <td>59</td>\n",
              "    </tr>\n",
              "  </tbody>\n",
              "</table>\n",
              "</div>"
            ],
            "text/plain": [
              "  participant   hr1  hr2  hr3\n",
              "0          p1  98.1  110   76\n",
              "1          p2  78.0  120   87\n",
              "2          p3  65.0  129   77\n",
              "3          p4  64.0  141   59"
            ]
          },
          "metadata": {
            "tags": []
          },
          "execution_count": 2
        }
      ]
    },
    {
      "cell_type": "code",
      "metadata": {
        "colab": {
          "base_uri": "https://localhost:8080/"
        },
        "id": "rgs0qR95c93G",
        "outputId": "fdb294cc-5cb2-46bf-f606-745f86614c9b"
      },
      "source": [
        "print(df.index)\n",
        "print('\\n')\n",
        "print(df.columns)\n",
        "print('\\n')\n",
        "print(df.dtypes)"
      ],
      "execution_count": null,
      "outputs": [
        {
          "output_type": "stream",
          "text": [
            "RangeIndex(start=0, stop=4, step=1)\n",
            "\n",
            "\n",
            "Index(['participant', 'hr1', 'hr2', 'hr3'], dtype='object')\n",
            "\n",
            "\n",
            "participant     object\n",
            "hr1            float64\n",
            "hr2              int64\n",
            "hr3              int64\n",
            "dtype: object\n"
          ],
          "name": "stdout"
        }
      ]
    },
    {
      "cell_type": "code",
      "metadata": {
        "colab": {
          "base_uri": "https://localhost:8080/",
          "height": 80
        },
        "id": "zVOMDcmbCgnA",
        "outputId": "b578db71-1b6b-4351-c203-79358ec40894"
      },
      "source": [
        "df = pd.DataFrame(columns=['participant', 'hr1', 'hr2', 'hr3'])\n",
        "df.set_index('participant', inplace=True)\n",
        "df"
      ],
      "execution_count": null,
      "outputs": [
        {
          "output_type": "execute_result",
          "data": {
            "text/html": [
              "<div>\n",
              "<style scoped>\n",
              "    .dataframe tbody tr th:only-of-type {\n",
              "        vertical-align: middle;\n",
              "    }\n",
              "\n",
              "    .dataframe tbody tr th {\n",
              "        vertical-align: top;\n",
              "    }\n",
              "\n",
              "    .dataframe thead th {\n",
              "        text-align: right;\n",
              "    }\n",
              "</style>\n",
              "<table border=\"1\" class=\"dataframe\">\n",
              "  <thead>\n",
              "    <tr style=\"text-align: right;\">\n",
              "      <th></th>\n",
              "      <th>hr1</th>\n",
              "      <th>hr2</th>\n",
              "      <th>hr3</th>\n",
              "    </tr>\n",
              "    <tr>\n",
              "      <th>participant</th>\n",
              "      <th></th>\n",
              "      <th></th>\n",
              "      <th></th>\n",
              "    </tr>\n",
              "  </thead>\n",
              "  <tbody>\n",
              "  </tbody>\n",
              "</table>\n",
              "</div>"
            ],
            "text/plain": [
              "Empty DataFrame\n",
              "Columns: [hr1, hr2, hr3]\n",
              "Index: []"
            ]
          },
          "metadata": {
            "tags": []
          },
          "execution_count": 3
        }
      ]
    },
    {
      "cell_type": "code",
      "metadata": {
        "colab": {
          "base_uri": "https://localhost:8080/",
          "height": 173
        },
        "id": "0UtD8J-sDjmb",
        "outputId": "7f6f11e6-ba92-4b8f-b007-b680e7f37d16"
      },
      "source": [
        "df = pd.DataFrame(data=[[98.1, 110, 76], [78, 120, 87], [65, 129, 77], [64, 141, 59]], index=['p1', 'p2', 'p3', 'p4'], columns=['hr1', 'hr2', 'hr3'])\n",
        "df"
      ],
      "execution_count": null,
      "outputs": [
        {
          "output_type": "execute_result",
          "data": {
            "text/html": [
              "<div>\n",
              "<style scoped>\n",
              "    .dataframe tbody tr th:only-of-type {\n",
              "        vertical-align: middle;\n",
              "    }\n",
              "\n",
              "    .dataframe tbody tr th {\n",
              "        vertical-align: top;\n",
              "    }\n",
              "\n",
              "    .dataframe thead th {\n",
              "        text-align: right;\n",
              "    }\n",
              "</style>\n",
              "<table border=\"1\" class=\"dataframe\">\n",
              "  <thead>\n",
              "    <tr style=\"text-align: right;\">\n",
              "      <th></th>\n",
              "      <th>hr1</th>\n",
              "      <th>hr2</th>\n",
              "      <th>hr3</th>\n",
              "    </tr>\n",
              "  </thead>\n",
              "  <tbody>\n",
              "    <tr>\n",
              "      <th>p1</th>\n",
              "      <td>98.1</td>\n",
              "      <td>110</td>\n",
              "      <td>76</td>\n",
              "    </tr>\n",
              "    <tr>\n",
              "      <th>p2</th>\n",
              "      <td>78.0</td>\n",
              "      <td>120</td>\n",
              "      <td>87</td>\n",
              "    </tr>\n",
              "    <tr>\n",
              "      <th>p3</th>\n",
              "      <td>65.0</td>\n",
              "      <td>129</td>\n",
              "      <td>77</td>\n",
              "    </tr>\n",
              "    <tr>\n",
              "      <th>p4</th>\n",
              "      <td>64.0</td>\n",
              "      <td>141</td>\n",
              "      <td>59</td>\n",
              "    </tr>\n",
              "  </tbody>\n",
              "</table>\n",
              "</div>"
            ],
            "text/plain": [
              "     hr1  hr2  hr3\n",
              "p1  98.1  110   76\n",
              "p2  78.0  120   87\n",
              "p3  65.0  129   77\n",
              "p4  64.0  141   59"
            ]
          },
          "metadata": {
            "tags": []
          },
          "execution_count": 4
        }
      ]
    },
    {
      "cell_type": "code",
      "metadata": {
        "colab": {
          "base_uri": "https://localhost:8080/",
          "height": 204
        },
        "id": "KzaOLtzJEAZF",
        "outputId": "02335c1f-f62b-4acc-90f2-309af7709908"
      },
      "source": [
        "df = pd.DataFrame({'hr1':[98.1, 78, 65, 64], 'hr2':[110, 120, 129, 141], 'hr3':[76, 87, 77, 59]}, index=['p1', 'p2', 'p3', 'p4'])\n",
        "df.index.names = ['participant'] # This is optional if you don't care if there's a name for your row index\n",
        "df"
      ],
      "execution_count": null,
      "outputs": [
        {
          "output_type": "execute_result",
          "data": {
            "text/html": [
              "<div>\n",
              "<style scoped>\n",
              "    .dataframe tbody tr th:only-of-type {\n",
              "        vertical-align: middle;\n",
              "    }\n",
              "\n",
              "    .dataframe tbody tr th {\n",
              "        vertical-align: top;\n",
              "    }\n",
              "\n",
              "    .dataframe thead th {\n",
              "        text-align: right;\n",
              "    }\n",
              "</style>\n",
              "<table border=\"1\" class=\"dataframe\">\n",
              "  <thead>\n",
              "    <tr style=\"text-align: right;\">\n",
              "      <th></th>\n",
              "      <th>hr1</th>\n",
              "      <th>hr2</th>\n",
              "      <th>hr3</th>\n",
              "    </tr>\n",
              "    <tr>\n",
              "      <th>participant</th>\n",
              "      <th></th>\n",
              "      <th></th>\n",
              "      <th></th>\n",
              "    </tr>\n",
              "  </thead>\n",
              "  <tbody>\n",
              "    <tr>\n",
              "      <th>p1</th>\n",
              "      <td>98.1</td>\n",
              "      <td>110</td>\n",
              "      <td>76</td>\n",
              "    </tr>\n",
              "    <tr>\n",
              "      <th>p2</th>\n",
              "      <td>78.0</td>\n",
              "      <td>120</td>\n",
              "      <td>87</td>\n",
              "    </tr>\n",
              "    <tr>\n",
              "      <th>p3</th>\n",
              "      <td>65.0</td>\n",
              "      <td>129</td>\n",
              "      <td>77</td>\n",
              "    </tr>\n",
              "    <tr>\n",
              "      <th>p4</th>\n",
              "      <td>64.0</td>\n",
              "      <td>141</td>\n",
              "      <td>59</td>\n",
              "    </tr>\n",
              "  </tbody>\n",
              "</table>\n",
              "</div>"
            ],
            "text/plain": [
              "              hr1  hr2  hr3\n",
              "participant                \n",
              "p1           98.1  110   76\n",
              "p2           78.0  120   87\n",
              "p3           65.0  129   77\n",
              "p4           64.0  141   59"
            ]
          },
          "metadata": {
            "tags": []
          },
          "execution_count": 5
        }
      ]
    },
    {
      "cell_type": "code",
      "metadata": {
        "colab": {
          "base_uri": "https://localhost:8080/"
        },
        "id": "SlBJEIlsEV3E",
        "outputId": "3ffc1857-6438-4c3f-d88b-ea60f05df0c5"
      },
      "source": [
        "df = pd.DataFrame(data=[['p1', 98.1, 110, 76], ['p2', 78, 120, 87], ['p3', 65, 129, 77], ['p4', 64, 141, 59]], columns=['participant', 'hr1', 'hr2', 'hr3'])\n",
        "print(df['hr3'])\n",
        "print('\\n')"
      ],
      "execution_count": null,
      "outputs": [
        {
          "output_type": "stream",
          "text": [
            "0    76\n",
            "1    87\n",
            "2    77\n",
            "3    59\n",
            "Name: hr3, dtype: int64\n",
            "\n",
            "\n"
          ],
          "name": "stdout"
        }
      ]
    },
    {
      "cell_type": "code",
      "metadata": {
        "colab": {
          "base_uri": "https://localhost:8080/"
        },
        "id": "69_Vs3qzFZVW",
        "outputId": "39fed6fb-8d88-441c-cfdd-427dc01fbe11"
      },
      "source": [
        "df = pd.DataFrame(data=[['p1', 98.1, 110, 76], ['p2', 78, 120, 87], ['p3', 65, 129, 77], ['p4', 64, 141, 59]], columns=['participant', 'hr1', 'hr2', 'hr3'])\n",
        "df.set_index('participant',inplace=True)\n",
        "print(df['hr3'])"
      ],
      "execution_count": null,
      "outputs": [
        {
          "output_type": "stream",
          "text": [
            "participant\n",
            "p1    76\n",
            "p2    87\n",
            "p3    77\n",
            "p4    59\n",
            "Name: hr3, dtype: int64\n"
          ],
          "name": "stdout"
        }
      ]
    },
    {
      "cell_type": "code",
      "metadata": {
        "colab": {
          "base_uri": "https://localhost:8080/"
        },
        "id": "sReuNY9_GCzW",
        "outputId": "cb17862b-a9f8-44d4-f537-63749fcef1ff"
      },
      "source": [
        "df.iloc[3]\n",
        "\n",
        "df.loc['p4']"
      ],
      "execution_count": null,
      "outputs": [
        {
          "output_type": "execute_result",
          "data": {
            "text/plain": [
              "hr1     64.0\n",
              "hr2    141.0\n",
              "hr3     59.0\n",
              "Name: p4, dtype: float64"
            ]
          },
          "metadata": {
            "tags": []
          },
          "execution_count": 10
        }
      ]
    },
    {
      "cell_type": "code",
      "metadata": {
        "colab": {
          "base_uri": "https://localhost:8080/"
        },
        "id": "dukrFjKKHuvu",
        "outputId": "9cfd158d-e85c-4caf-b836-9b18fb352fcf"
      },
      "source": [
        "df.iloc[3,2]\n",
        "df.loc['p4','hr3']"
      ],
      "execution_count": null,
      "outputs": [
        {
          "output_type": "execute_result",
          "data": {
            "text/plain": [
              "59"
            ]
          },
          "metadata": {
            "tags": []
          },
          "execution_count": 13
        }
      ]
    },
    {
      "cell_type": "code",
      "metadata": {
        "colab": {
          "base_uri": "https://localhost:8080/"
        },
        "id": "hxGj1C-4IFik",
        "outputId": "3ee842c6-09e0-4e8f-ac88-812cb870eb1a"
      },
      "source": [
        "print(df.iloc[2,2])\n",
        "print(df.iloc[:,2])"
      ],
      "execution_count": null,
      "outputs": [
        {
          "output_type": "stream",
          "text": [
            "77\n",
            "participant\n",
            "p1    76\n",
            "p2    87\n",
            "p3    77\n",
            "p4    59\n",
            "Name: hr3, dtype: int64\n"
          ],
          "name": "stdout"
        }
      ]
    },
    {
      "cell_type": "code",
      "metadata": {
        "colab": {
          "base_uri": "https://localhost:8080/"
        },
        "id": "UnBpzvhZJXYH",
        "outputId": "e11f5474-c1e8-4f69-b20c-3a1f1ef90aca"
      },
      "source": [
        "df.iat[3,2]\n",
        "df.at['p4','hr3']"
      ],
      "execution_count": null,
      "outputs": [
        {
          "output_type": "execute_result",
          "data": {
            "text/plain": [
              "59"
            ]
          },
          "metadata": {
            "tags": []
          },
          "execution_count": 16
        }
      ]
    },
    {
      "cell_type": "code",
      "metadata": {
        "colab": {
          "base_uri": "https://localhost:8080/"
        },
        "id": "JF7CUmnlJ_Kj",
        "outputId": "ec3d9862-47f2-4f72-d32b-96a668ade385"
      },
      "source": [
        "columns = list(df)\n",
        "columns"
      ],
      "execution_count": null,
      "outputs": [
        {
          "output_type": "execute_result",
          "data": {
            "text/plain": [
              "['hr1', 'hr2', 'hr3']"
            ]
          },
          "metadata": {
            "tags": []
          },
          "execution_count": 17
        }
      ]
    },
    {
      "cell_type": "code",
      "metadata": {
        "colab": {
          "base_uri": "https://localhost:8080/"
        },
        "id": "nFXv-A8MKCL_",
        "outputId": "40745dbf-9a5b-4e4e-d72b-1e0f746a8ceb"
      },
      "source": [
        "columns = df.columns\n",
        "columns"
      ],
      "execution_count": null,
      "outputs": [
        {
          "output_type": "execute_result",
          "data": {
            "text/plain": [
              "Index(['hr1', 'hr2', 'hr3'], dtype='object')"
            ]
          },
          "metadata": {
            "tags": []
          },
          "execution_count": 18
        }
      ]
    },
    {
      "cell_type": "code",
      "metadata": {
        "colab": {
          "base_uri": "https://localhost:8080/"
        },
        "id": "RIg1cFPDKQEX",
        "outputId": "c019a2a6-5af4-4080-ed38-c564a3847f72"
      },
      "source": [
        "rows = df.index\n",
        "rows\n"
      ],
      "execution_count": null,
      "outputs": [
        {
          "output_type": "execute_result",
          "data": {
            "text/plain": [
              "Index(['p1', 'p2', 'p3', 'p4'], dtype='object', name='participant')"
            ]
          },
          "metadata": {
            "tags": []
          },
          "execution_count": 19
        }
      ]
    },
    {
      "cell_type": "code",
      "metadata": {
        "colab": {
          "base_uri": "https://localhost:8080/"
        },
        "id": "RA1ILR37KVbX",
        "outputId": "aad571d5-0841-44a4-b46a-5701b0474cfe"
      },
      "source": [
        "for col in columns:\n",
        "  print(col)"
      ],
      "execution_count": null,
      "outputs": [
        {
          "output_type": "stream",
          "text": [
            "hr1\n",
            "hr2\n",
            "hr3\n"
          ],
          "name": "stdout"
        }
      ]
    },
    {
      "cell_type": "code",
      "metadata": {
        "colab": {
          "base_uri": "https://localhost:8080/"
        },
        "id": "4qpY-aj5Kbi7",
        "outputId": "38a6c684-7831-49ca-a96c-ad7f275dcac6"
      },
      "source": [
        "for col in df:\n",
        "  print(\"Column: \" + str(col) + \"\\n\" + str(df[col]) + \"\\n\")"
      ],
      "execution_count": null,
      "outputs": [
        {
          "output_type": "stream",
          "text": [
            "Column: hr1\n",
            "participant\n",
            "p1    98.1\n",
            "p2    78.0\n",
            "p3    65.0\n",
            "p4    64.0\n",
            "Name: hr1, dtype: float64\n",
            "\n",
            "Column: hr2\n",
            "participant\n",
            "p1    110\n",
            "p2    120\n",
            "p3    129\n",
            "p4    141\n",
            "Name: hr2, dtype: int64\n",
            "\n",
            "Column: hr3\n",
            "participant\n",
            "p1    76\n",
            "p2    87\n",
            "p3    77\n",
            "p4    59\n",
            "Name: hr3, dtype: int64\n",
            "\n"
          ],
          "name": "stdout"
        }
      ]
    },
    {
      "cell_type": "code",
      "metadata": {
        "colab": {
          "base_uri": "https://localhost:8080/"
        },
        "id": "1OQVew52Lhfq",
        "outputId": "2727534f-d607-495c-f7a1-bc3f37c1679b"
      },
      "source": [
        "for col in df:\n",
        "  print(\"Column: \" + str(col))"
      ],
      "execution_count": null,
      "outputs": [
        {
          "output_type": "stream",
          "text": [
            "Column: hr1\n",
            "Column: hr2\n",
            "Column: hr3\n"
          ],
          "name": "stdout"
        }
      ]
    },
    {
      "cell_type": "code",
      "metadata": {
        "colab": {
          "base_uri": "https://localhost:8080/",
          "height": 204
        },
        "id": "o2UO9LAbMAPy",
        "outputId": "07da0419-7470-4b30-fb76-cc66815da171"
      },
      "source": [
        "df = pd.DataFrame(columns=['participant', 'hr1', 'hr2', 'hr3'])\n",
        "df.set_index('participant', inplace=True)\n",
        "\n",
        "df.loc['p1'] = [98.1, 110, 76]\n",
        "df.loc['p2'] = [78.0, 120, 87]\n",
        "df.loc['p3'] = [65.0, 129, 77]\n",
        "df.loc['p4'] = [64.0, 141, 59]\n",
        "\n",
        "df"
      ],
      "execution_count": null,
      "outputs": [
        {
          "output_type": "execute_result",
          "data": {
            "text/html": [
              "<div>\n",
              "<style scoped>\n",
              "    .dataframe tbody tr th:only-of-type {\n",
              "        vertical-align: middle;\n",
              "    }\n",
              "\n",
              "    .dataframe tbody tr th {\n",
              "        vertical-align: top;\n",
              "    }\n",
              "\n",
              "    .dataframe thead th {\n",
              "        text-align: right;\n",
              "    }\n",
              "</style>\n",
              "<table border=\"1\" class=\"dataframe\">\n",
              "  <thead>\n",
              "    <tr style=\"text-align: right;\">\n",
              "      <th></th>\n",
              "      <th>hr1</th>\n",
              "      <th>hr2</th>\n",
              "      <th>hr3</th>\n",
              "    </tr>\n",
              "    <tr>\n",
              "      <th>participant</th>\n",
              "      <th></th>\n",
              "      <th></th>\n",
              "      <th></th>\n",
              "    </tr>\n",
              "  </thead>\n",
              "  <tbody>\n",
              "    <tr>\n",
              "      <th>p1</th>\n",
              "      <td>98.1</td>\n",
              "      <td>110.0</td>\n",
              "      <td>76.0</td>\n",
              "    </tr>\n",
              "    <tr>\n",
              "      <th>p2</th>\n",
              "      <td>78.0</td>\n",
              "      <td>120.0</td>\n",
              "      <td>87.0</td>\n",
              "    </tr>\n",
              "    <tr>\n",
              "      <th>p3</th>\n",
              "      <td>65.0</td>\n",
              "      <td>129.0</td>\n",
              "      <td>77.0</td>\n",
              "    </tr>\n",
              "    <tr>\n",
              "      <th>p4</th>\n",
              "      <td>64.0</td>\n",
              "      <td>141.0</td>\n",
              "      <td>59.0</td>\n",
              "    </tr>\n",
              "  </tbody>\n",
              "</table>\n",
              "</div>"
            ],
            "text/plain": [
              "              hr1    hr2   hr3\n",
              "participant                   \n",
              "p1           98.1  110.0  76.0\n",
              "p2           78.0  120.0  87.0\n",
              "p3           65.0  129.0  77.0\n",
              "p4           64.0  141.0  59.0"
            ]
          },
          "metadata": {
            "tags": []
          },
          "execution_count": 25
        }
      ]
    },
    {
      "cell_type": "markdown",
      "metadata": {
        "id": "rR-Kob48nLz7"
      },
      "source": [
        "Homework Task #1"
      ]
    },
    {
      "cell_type": "code",
      "metadata": {
        "colab": {
          "base_uri": "https://localhost:8080/",
          "height": 137
        },
        "id": "by1emD0Yc1Mr",
        "outputId": "c47fdcd1-f5f0-4541-a464-cacf23084538"
      },
      "source": [
        "import pandas as pd\n",
        "\n",
        "df = pd.DataFrame({'location':['Salt Lake City, UT', 'San Antonio, TX', 'San Diego, CA', 'St. Louis, MO', 'Suffolk County, NY'], 'population':[191992, 1463586, 1400467, 317095, 1341453], 'homicides':[8, 94, 37, 188, 24], 'assaults':[874, 5465, 3601, 3521, 895], 'robberies':[469, 1986, 1378, 1790 ,677]}, index=['UT01803', 'TXSPD00', 'CA03711', 'MOSPD00', 'NY05101'])\n",
        "df.index.names = ['agency_code']\n",
        "\n",
        "df.head(2)"
      ],
      "execution_count": null,
      "outputs": [
        {
          "output_type": "execute_result",
          "data": {
            "text/html": [
              "<div>\n",
              "<style scoped>\n",
              "    .dataframe tbody tr th:only-of-type {\n",
              "        vertical-align: middle;\n",
              "    }\n",
              "\n",
              "    .dataframe tbody tr th {\n",
              "        vertical-align: top;\n",
              "    }\n",
              "\n",
              "    .dataframe thead th {\n",
              "        text-align: right;\n",
              "    }\n",
              "</style>\n",
              "<table border=\"1\" class=\"dataframe\">\n",
              "  <thead>\n",
              "    <tr style=\"text-align: right;\">\n",
              "      <th></th>\n",
              "      <th>location</th>\n",
              "      <th>population</th>\n",
              "      <th>homicides</th>\n",
              "      <th>assaults</th>\n",
              "      <th>robberies</th>\n",
              "    </tr>\n",
              "    <tr>\n",
              "      <th>agency_code</th>\n",
              "      <th></th>\n",
              "      <th></th>\n",
              "      <th></th>\n",
              "      <th></th>\n",
              "      <th></th>\n",
              "    </tr>\n",
              "  </thead>\n",
              "  <tbody>\n",
              "    <tr>\n",
              "      <th>UT01803</th>\n",
              "      <td>Salt Lake City, UT</td>\n",
              "      <td>191992</td>\n",
              "      <td>8</td>\n",
              "      <td>874</td>\n",
              "      <td>469</td>\n",
              "    </tr>\n",
              "    <tr>\n",
              "      <th>TXSPD00</th>\n",
              "      <td>San Antonio, TX</td>\n",
              "      <td>1463586</td>\n",
              "      <td>94</td>\n",
              "      <td>5465</td>\n",
              "      <td>1986</td>\n",
              "    </tr>\n",
              "  </tbody>\n",
              "</table>\n",
              "</div>"
            ],
            "text/plain": [
              "                       location  population  homicides  assaults  robberies\n",
              "agency_code                                                                \n",
              "UT01803      Salt Lake City, UT      191992          8       874        469\n",
              "TXSPD00         San Antonio, TX     1463586         94      5465       1986"
            ]
          },
          "metadata": {
            "tags": []
          },
          "execution_count": 9
        }
      ]
    },
    {
      "cell_type": "markdown",
      "metadata": {
        "id": "lfi3eotInO8y"
      },
      "source": [
        "Homework Task #2"
      ]
    },
    {
      "cell_type": "code",
      "metadata": {
        "colab": {
          "base_uri": "https://localhost:8080/"
        },
        "id": "CZ_ko23Kh5GD",
        "outputId": "f3f4547d-15ae-459b-90cd-6b9939ad3b6b"
      },
      "source": [
        "print(df['location'])\n",
        "print(df.iloc[0])\n",
        "columns = list(df)\n",
        "\n",
        "print(*columns, sep='\\n')"
      ],
      "execution_count": null,
      "outputs": [
        {
          "output_type": "stream",
          "text": [
            "agency_code\n",
            "UT01803    Salt Lake City, UT\n",
            "TXSPD00       San Antonio, TX\n",
            "CA03711         San Diego, CA\n",
            "MOSPD00         St. Louis, MO\n",
            "NY05101    Suffolk County, NY\n",
            "Name: location, dtype: object\n",
            "location      Salt Lake City, UT\n",
            "population                191992\n",
            "homicides                      8\n",
            "assaults                     874\n",
            "robberies                    469\n",
            "Name: UT01803, dtype: object\n",
            "location\n",
            "population\n",
            "homicides\n",
            "assaults\n",
            "robberies\n"
          ],
          "name": "stdout"
        }
      ]
    },
    {
      "cell_type": "markdown",
      "metadata": {
        "id": "nQX-1l0wnRdi"
      },
      "source": [
        "Homework Task #3"
      ]
    },
    {
      "cell_type": "code",
      "metadata": {
        "colab": {
          "base_uri": "https://localhost:8080/",
          "height": 227
        },
        "id": "iAqAra1VnS9Z",
        "outputId": "64a71059-0080-4731-88c3-a7cbb13f0402"
      },
      "source": [
        "df.loc['FL02902'] =  ['Tampa, FL', 364383, 27, 2730 ,733]\n",
        "df2 = pd.DataFrame({'homicides_per_capita':[4, 6, 3, 59, 2, 9]}, index=['UT01803', 'TXSPD00', 'CA03711', 'MOSPD00', 'NY05101','FL02902'])\n",
        "df = df.join(df2, how='inner')\n",
        "\n",
        "df"
      ],
      "execution_count": null,
      "outputs": [
        {
          "output_type": "execute_result",
          "data": {
            "text/html": [
              "<div>\n",
              "<style scoped>\n",
              "    .dataframe tbody tr th:only-of-type {\n",
              "        vertical-align: middle;\n",
              "    }\n",
              "\n",
              "    .dataframe tbody tr th {\n",
              "        vertical-align: top;\n",
              "    }\n",
              "\n",
              "    .dataframe thead th {\n",
              "        text-align: right;\n",
              "    }\n",
              "</style>\n",
              "<table border=\"1\" class=\"dataframe\">\n",
              "  <thead>\n",
              "    <tr style=\"text-align: right;\">\n",
              "      <th></th>\n",
              "      <th>location</th>\n",
              "      <th>population</th>\n",
              "      <th>homicides</th>\n",
              "      <th>assaults</th>\n",
              "      <th>robberies</th>\n",
              "      <th>homicides_per_capita</th>\n",
              "    </tr>\n",
              "  </thead>\n",
              "  <tbody>\n",
              "    <tr>\n",
              "      <th>UT01803</th>\n",
              "      <td>Salt Lake City, UT</td>\n",
              "      <td>191992</td>\n",
              "      <td>8</td>\n",
              "      <td>874</td>\n",
              "      <td>469</td>\n",
              "      <td>4</td>\n",
              "    </tr>\n",
              "    <tr>\n",
              "      <th>TXSPD00</th>\n",
              "      <td>San Antonio, TX</td>\n",
              "      <td>1463586</td>\n",
              "      <td>94</td>\n",
              "      <td>5465</td>\n",
              "      <td>1986</td>\n",
              "      <td>6</td>\n",
              "    </tr>\n",
              "    <tr>\n",
              "      <th>CA03711</th>\n",
              "      <td>San Diego, CA</td>\n",
              "      <td>1400467</td>\n",
              "      <td>37</td>\n",
              "      <td>3601</td>\n",
              "      <td>1378</td>\n",
              "      <td>3</td>\n",
              "    </tr>\n",
              "    <tr>\n",
              "      <th>MOSPD00</th>\n",
              "      <td>St. Louis, MO</td>\n",
              "      <td>317095</td>\n",
              "      <td>188</td>\n",
              "      <td>3521</td>\n",
              "      <td>1790</td>\n",
              "      <td>59</td>\n",
              "    </tr>\n",
              "    <tr>\n",
              "      <th>NY05101</th>\n",
              "      <td>Suffolk County, NY</td>\n",
              "      <td>1341453</td>\n",
              "      <td>24</td>\n",
              "      <td>895</td>\n",
              "      <td>677</td>\n",
              "      <td>2</td>\n",
              "    </tr>\n",
              "    <tr>\n",
              "      <th>FL02902</th>\n",
              "      <td>Tampa, FL</td>\n",
              "      <td>364383</td>\n",
              "      <td>27</td>\n",
              "      <td>2730</td>\n",
              "      <td>733</td>\n",
              "      <td>9</td>\n",
              "    </tr>\n",
              "  </tbody>\n",
              "</table>\n",
              "</div>"
            ],
            "text/plain": [
              "                   location  population  ...  robberies  homicides_per_capita\n",
              "UT01803  Salt Lake City, UT      191992  ...        469                     4\n",
              "TXSPD00     San Antonio, TX     1463586  ...       1986                     6\n",
              "CA03711       San Diego, CA     1400467  ...       1378                     3\n",
              "MOSPD00       St. Louis, MO      317095  ...       1790                    59\n",
              "NY05101  Suffolk County, NY     1341453  ...        677                     2\n",
              "FL02902           Tampa, FL      364383  ...        733                     9\n",
              "\n",
              "[6 rows x 6 columns]"
            ]
          },
          "metadata": {
            "tags": []
          },
          "execution_count": 39
        }
      ]
    },
    {
      "cell_type": "markdown",
      "metadata": {
        "id": "9FUPCpTSvAmb"
      },
      "source": [
        "Homework Task 4\n"
      ]
    },
    {
      "cell_type": "code",
      "metadata": {
        "colab": {
          "base_uri": "https://localhost:8080/",
          "height": 107
        },
        "id": "vD3NcNnBzkm_",
        "outputId": "3b7892e8-27a5-4737-d76f-e75938a2b9dc"
      },
      "source": [
        "df.sort_values(by='homicides_per_capita', ascending=False)\n",
        "filtered_df = df[(df.homicides > 50) | (df.assaults > 5000)]\n",
        "filtered_df"
      ],
      "execution_count": null,
      "outputs": [
        {
          "output_type": "execute_result",
          "data": {
            "text/html": [
              "<div>\n",
              "<style scoped>\n",
              "    .dataframe tbody tr th:only-of-type {\n",
              "        vertical-align: middle;\n",
              "    }\n",
              "\n",
              "    .dataframe tbody tr th {\n",
              "        vertical-align: top;\n",
              "    }\n",
              "\n",
              "    .dataframe thead th {\n",
              "        text-align: right;\n",
              "    }\n",
              "</style>\n",
              "<table border=\"1\" class=\"dataframe\">\n",
              "  <thead>\n",
              "    <tr style=\"text-align: right;\">\n",
              "      <th></th>\n",
              "      <th>location</th>\n",
              "      <th>population</th>\n",
              "      <th>homicides</th>\n",
              "      <th>assaults</th>\n",
              "      <th>robberies</th>\n",
              "      <th>homicides_per_capita</th>\n",
              "    </tr>\n",
              "  </thead>\n",
              "  <tbody>\n",
              "    <tr>\n",
              "      <th>TXSPD00</th>\n",
              "      <td>San Antonio, TX</td>\n",
              "      <td>1463586</td>\n",
              "      <td>94</td>\n",
              "      <td>5465</td>\n",
              "      <td>1986</td>\n",
              "      <td>6</td>\n",
              "    </tr>\n",
              "    <tr>\n",
              "      <th>MOSPD00</th>\n",
              "      <td>St. Louis, MO</td>\n",
              "      <td>317095</td>\n",
              "      <td>188</td>\n",
              "      <td>3521</td>\n",
              "      <td>1790</td>\n",
              "      <td>59</td>\n",
              "    </tr>\n",
              "  </tbody>\n",
              "</table>\n",
              "</div>"
            ],
            "text/plain": [
              "                location  population  ...  robberies  homicides_per_capita\n",
              "TXSPD00  San Antonio, TX     1463586  ...       1986                     6\n",
              "MOSPD00    St. Louis, MO      317095  ...       1790                    59\n",
              "\n",
              "[2 rows x 6 columns]"
            ]
          },
          "metadata": {
            "tags": []
          },
          "execution_count": 52
        }
      ]
    },
    {
      "cell_type": "markdown",
      "metadata": {
        "id": "SEoIA5ef1Pl0"
      },
      "source": [
        "Homework Task #5"
      ]
    },
    {
      "cell_type": "code",
      "metadata": {
        "id": "0FM28umevCVJ"
      },
      "source": [
        "import pandas as pd \n",
        "from pydrive.auth import GoogleAuth \n",
        "from pydrive.drive import GoogleDrive\n",
        "from google.colab import auth\n",
        "from oauth2client.client import GoogleCredentials\n",
        "auth.authenticate_user()\n",
        "gauth = GoogleAuth()\n",
        "gauth.credentials = GoogleCredentials.get_application_default()\n",
        "drive = GoogleDrive(gauth)\n"
      ],
      "execution_count": null,
      "outputs": []
    },
    {
      "cell_type": "code",
      "metadata": {
        "colab": {
          "base_uri": "https://localhost:8080/"
        },
        "id": "RAonRNZA5qvY",
        "outputId": "1dec34bc-5364-4c95-f58e-a3cdb9567bf6"
      },
      "source": [
        "file_list = drive.ListFile({'q': \"'1DtwnhTRdVhYCVZhJuAGMdVvj9dQqNiGg' in parents and trashed=false\"}).GetList()\n",
        "for file1 in file_list:\n",
        "  print('title: %s, id: %s' % (file1['title'], file1['id']))"
      ],
      "execution_count": null,
      "outputs": [
        {
          "output_type": "stream",
          "text": [
            "title: crime_report_raw-Ryan_Bickmore.csv, id: 1lasKOCpYBHkZvc_5mbVfDkmPDIov__RJ\n"
          ],
          "name": "stdout"
        }
      ]
    },
    {
      "cell_type": "code",
      "metadata": {
        "id": "QKHnkkwr6WXS"
      },
      "source": [
        "data_downloaded = drive.CreateFile({'id': '1lasKOCpYBHkZvc_5mbVfDkmPDIov__RJ'})\n",
        "data_downloaded.GetContentFile('crime_report_raw-Ryan_Bickmore.csv')"
      ],
      "execution_count": null,
      "outputs": []
    },
    {
      "cell_type": "code",
      "metadata": {
        "colab": {
          "base_uri": "https://localhost:8080/",
          "height": 197
        },
        "id": "cHE1E2wa6pM8",
        "outputId": "25e6d699-4d49-489e-c18b-c1925ef77b94"
      },
      "source": [
        "df_drive = pd.read_csv('crime_report_raw-Ryan_Bickmore.csv')\n",
        "df_drive.head()"
      ],
      "execution_count": null,
      "outputs": [
        {
          "output_type": "execute_result",
          "data": {
            "text/html": [
              "<div>\n",
              "<style scoped>\n",
              "    .dataframe tbody tr th:only-of-type {\n",
              "        vertical-align: middle;\n",
              "    }\n",
              "\n",
              "    .dataframe tbody tr th {\n",
              "        vertical-align: top;\n",
              "    }\n",
              "\n",
              "    .dataframe thead th {\n",
              "        text-align: right;\n",
              "    }\n",
              "</style>\n",
              "<table border=\"1\" class=\"dataframe\">\n",
              "  <thead>\n",
              "    <tr style=\"text-align: right;\">\n",
              "      <th></th>\n",
              "      <th>report_year</th>\n",
              "      <th>agency_code</th>\n",
              "      <th>agency_jurisdiction</th>\n",
              "      <th>population</th>\n",
              "      <th>violent_crimes</th>\n",
              "      <th>homicides</th>\n",
              "      <th>rapes</th>\n",
              "      <th>assaults</th>\n",
              "      <th>robberies</th>\n",
              "      <th>months_reported</th>\n",
              "      <th>crimes_percapita</th>\n",
              "      <th>homicides_percapita</th>\n",
              "      <th>rapes_percapita</th>\n",
              "      <th>assaults_percapita</th>\n",
              "      <th>robberies_percapita</th>\n",
              "    </tr>\n",
              "  </thead>\n",
              "  <tbody>\n",
              "    <tr>\n",
              "      <th>0</th>\n",
              "      <td>1975</td>\n",
              "      <td>NM00101</td>\n",
              "      <td>Albuquerque, NM</td>\n",
              "      <td>286238.0</td>\n",
              "      <td>2383.0</td>\n",
              "      <td>30.0</td>\n",
              "      <td>181.0</td>\n",
              "      <td>1353.0</td>\n",
              "      <td>819.0</td>\n",
              "      <td>12.0</td>\n",
              "      <td>832.52</td>\n",
              "      <td>10.48</td>\n",
              "      <td>63.23</td>\n",
              "      <td>472.68</td>\n",
              "      <td>286.13</td>\n",
              "    </tr>\n",
              "    <tr>\n",
              "      <th>1</th>\n",
              "      <td>1975</td>\n",
              "      <td>TX22001</td>\n",
              "      <td>Arlington, TX</td>\n",
              "      <td>112478.0</td>\n",
              "      <td>278.0</td>\n",
              "      <td>5.0</td>\n",
              "      <td>28.0</td>\n",
              "      <td>132.0</td>\n",
              "      <td>113.0</td>\n",
              "      <td>12.0</td>\n",
              "      <td>247.16</td>\n",
              "      <td>4.45</td>\n",
              "      <td>24.89</td>\n",
              "      <td>117.36</td>\n",
              "      <td>100.46</td>\n",
              "    </tr>\n",
              "    <tr>\n",
              "      <th>2</th>\n",
              "      <td>1975</td>\n",
              "      <td>GAAPD00</td>\n",
              "      <td>Atlanta, GA</td>\n",
              "      <td>490584.0</td>\n",
              "      <td>8033.0</td>\n",
              "      <td>185.0</td>\n",
              "      <td>443.0</td>\n",
              "      <td>3518.0</td>\n",
              "      <td>3887.0</td>\n",
              "      <td>12.0</td>\n",
              "      <td>1637.44</td>\n",
              "      <td>37.71</td>\n",
              "      <td>90.30</td>\n",
              "      <td>717.10</td>\n",
              "      <td>792.32</td>\n",
              "    </tr>\n",
              "    <tr>\n",
              "      <th>3</th>\n",
              "      <td>1975</td>\n",
              "      <td>CO00101</td>\n",
              "      <td>Aurora, CO</td>\n",
              "      <td>116656.0</td>\n",
              "      <td>611.0</td>\n",
              "      <td>7.0</td>\n",
              "      <td>44.0</td>\n",
              "      <td>389.0</td>\n",
              "      <td>171.0</td>\n",
              "      <td>12.0</td>\n",
              "      <td>523.76</td>\n",
              "      <td>6.00</td>\n",
              "      <td>37.72</td>\n",
              "      <td>333.46</td>\n",
              "      <td>146.58</td>\n",
              "    </tr>\n",
              "    <tr>\n",
              "      <th>4</th>\n",
              "      <td>1975</td>\n",
              "      <td>TX22701</td>\n",
              "      <td>Austin, TX</td>\n",
              "      <td>300400.0</td>\n",
              "      <td>1215.0</td>\n",
              "      <td>33.0</td>\n",
              "      <td>190.0</td>\n",
              "      <td>463.0</td>\n",
              "      <td>529.0</td>\n",
              "      <td>12.0</td>\n",
              "      <td>404.46</td>\n",
              "      <td>10.99</td>\n",
              "      <td>63.25</td>\n",
              "      <td>154.13</td>\n",
              "      <td>176.10</td>\n",
              "    </tr>\n",
              "  </tbody>\n",
              "</table>\n",
              "</div>"
            ],
            "text/plain": [
              "   report_year agency_code  ... assaults_percapita  robberies_percapita\n",
              "0         1975     NM00101  ...             472.68               286.13\n",
              "1         1975     TX22001  ...             117.36               100.46\n",
              "2         1975     GAAPD00  ...             717.10               792.32\n",
              "3         1975     CO00101  ...             333.46               146.58\n",
              "4         1975     TX22701  ...             154.13               176.10\n",
              "\n",
              "[5 rows x 15 columns]"
            ]
          },
          "metadata": {
            "tags": []
          },
          "execution_count": 68
        }
      ]
    },
    {
      "cell_type": "code",
      "metadata": {
        "colab": {
          "base_uri": "https://localhost:8080/",
          "height": 137
        },
        "id": "Vxd6gb-Z4Ntv",
        "outputId": "7096910f-45e9-42f0-eb0c-8f95c87e3c4b"
      },
      "source": [
        "df_url = pd.read_csv('https://www.ishelp.info/data/crime_report_raw.csv')\n",
        "df_url[:3]"
      ],
      "execution_count": null,
      "outputs": [
        {
          "output_type": "execute_result",
          "data": {
            "text/html": [
              "<div>\n",
              "<style scoped>\n",
              "    .dataframe tbody tr th:only-of-type {\n",
              "        vertical-align: middle;\n",
              "    }\n",
              "\n",
              "    .dataframe tbody tr th {\n",
              "        vertical-align: top;\n",
              "    }\n",
              "\n",
              "    .dataframe thead th {\n",
              "        text-align: right;\n",
              "    }\n",
              "</style>\n",
              "<table border=\"1\" class=\"dataframe\">\n",
              "  <thead>\n",
              "    <tr style=\"text-align: right;\">\n",
              "      <th></th>\n",
              "      <th>report_year</th>\n",
              "      <th>agency_code</th>\n",
              "      <th>agency_jurisdiction</th>\n",
              "      <th>population</th>\n",
              "      <th>violent_crimes</th>\n",
              "      <th>homicides</th>\n",
              "      <th>rapes</th>\n",
              "      <th>assaults</th>\n",
              "      <th>robberies</th>\n",
              "      <th>months_reported</th>\n",
              "      <th>crimes_percapita</th>\n",
              "      <th>homicides_percapita</th>\n",
              "      <th>rapes_percapita</th>\n",
              "      <th>assaults_percapita</th>\n",
              "      <th>robberies_percapita</th>\n",
              "    </tr>\n",
              "  </thead>\n",
              "  <tbody>\n",
              "    <tr>\n",
              "      <th>0</th>\n",
              "      <td>1975</td>\n",
              "      <td>NM00101</td>\n",
              "      <td>Albuquerque, NM</td>\n",
              "      <td>286238.0</td>\n",
              "      <td>2383.0</td>\n",
              "      <td>30.0</td>\n",
              "      <td>181.0</td>\n",
              "      <td>1353.0</td>\n",
              "      <td>819.0</td>\n",
              "      <td>12.0</td>\n",
              "      <td>832.52</td>\n",
              "      <td>10.48</td>\n",
              "      <td>63.23</td>\n",
              "      <td>472.68</td>\n",
              "      <td>286.13</td>\n",
              "    </tr>\n",
              "    <tr>\n",
              "      <th>1</th>\n",
              "      <td>1975</td>\n",
              "      <td>TX22001</td>\n",
              "      <td>Arlington, TX</td>\n",
              "      <td>112478.0</td>\n",
              "      <td>278.0</td>\n",
              "      <td>5.0</td>\n",
              "      <td>28.0</td>\n",
              "      <td>132.0</td>\n",
              "      <td>113.0</td>\n",
              "      <td>12.0</td>\n",
              "      <td>247.16</td>\n",
              "      <td>4.45</td>\n",
              "      <td>24.89</td>\n",
              "      <td>117.36</td>\n",
              "      <td>100.46</td>\n",
              "    </tr>\n",
              "    <tr>\n",
              "      <th>2</th>\n",
              "      <td>1975</td>\n",
              "      <td>GAAPD00</td>\n",
              "      <td>Atlanta, GA</td>\n",
              "      <td>490584.0</td>\n",
              "      <td>8033.0</td>\n",
              "      <td>185.0</td>\n",
              "      <td>443.0</td>\n",
              "      <td>3518.0</td>\n",
              "      <td>3887.0</td>\n",
              "      <td>12.0</td>\n",
              "      <td>1637.44</td>\n",
              "      <td>37.71</td>\n",
              "      <td>90.30</td>\n",
              "      <td>717.10</td>\n",
              "      <td>792.32</td>\n",
              "    </tr>\n",
              "  </tbody>\n",
              "</table>\n",
              "</div>"
            ],
            "text/plain": [
              "   report_year agency_code  ... assaults_percapita  robberies_percapita\n",
              "0         1975     NM00101  ...             472.68               286.13\n",
              "1         1975     TX22001  ...             117.36               100.46\n",
              "2         1975     GAAPD00  ...             717.10               792.32\n",
              "\n",
              "[3 rows x 15 columns]"
            ]
          },
          "metadata": {
            "tags": []
          },
          "execution_count": 61
        }
      ]
    },
    {
      "cell_type": "code",
      "metadata": {
        "colab": {
          "base_uri": "https://localhost:8080/",
          "height": 197
        },
        "id": "vmt2IigrK6RM",
        "outputId": "d0d71637-7646-4c05-d962-525fc2f2dc6b"
      },
      "source": [
        "import pandas as pd\n",
        "\n",
        "df = pd.read_csv('/content/drive/MyDrive/Colab Notebooks/Data/insurance.csv')\n",
        "df.head()"
      ],
      "execution_count": null,
      "outputs": [
        {
          "output_type": "execute_result",
          "data": {
            "text/html": [
              "<div>\n",
              "<style scoped>\n",
              "    .dataframe tbody tr th:only-of-type {\n",
              "        vertical-align: middle;\n",
              "    }\n",
              "\n",
              "    .dataframe tbody tr th {\n",
              "        vertical-align: top;\n",
              "    }\n",
              "\n",
              "    .dataframe thead th {\n",
              "        text-align: right;\n",
              "    }\n",
              "</style>\n",
              "<table border=\"1\" class=\"dataframe\">\n",
              "  <thead>\n",
              "    <tr style=\"text-align: right;\">\n",
              "      <th></th>\n",
              "      <th>age</th>\n",
              "      <th>sex</th>\n",
              "      <th>bmi</th>\n",
              "      <th>children</th>\n",
              "      <th>smoker</th>\n",
              "      <th>region</th>\n",
              "      <th>charges</th>\n",
              "    </tr>\n",
              "  </thead>\n",
              "  <tbody>\n",
              "    <tr>\n",
              "      <th>0</th>\n",
              "      <td>19</td>\n",
              "      <td>female</td>\n",
              "      <td>27.900</td>\n",
              "      <td>0</td>\n",
              "      <td>yes</td>\n",
              "      <td>southwest</td>\n",
              "      <td>16884.92400</td>\n",
              "    </tr>\n",
              "    <tr>\n",
              "      <th>1</th>\n",
              "      <td>18</td>\n",
              "      <td>male</td>\n",
              "      <td>33.770</td>\n",
              "      <td>1</td>\n",
              "      <td>no</td>\n",
              "      <td>southeast</td>\n",
              "      <td>1725.55230</td>\n",
              "    </tr>\n",
              "    <tr>\n",
              "      <th>2</th>\n",
              "      <td>28</td>\n",
              "      <td>male</td>\n",
              "      <td>33.000</td>\n",
              "      <td>3</td>\n",
              "      <td>no</td>\n",
              "      <td>southeast</td>\n",
              "      <td>4449.46200</td>\n",
              "    </tr>\n",
              "    <tr>\n",
              "      <th>3</th>\n",
              "      <td>33</td>\n",
              "      <td>male</td>\n",
              "      <td>22.705</td>\n",
              "      <td>0</td>\n",
              "      <td>no</td>\n",
              "      <td>northwest</td>\n",
              "      <td>21984.47061</td>\n",
              "    </tr>\n",
              "    <tr>\n",
              "      <th>4</th>\n",
              "      <td>32</td>\n",
              "      <td>male</td>\n",
              "      <td>28.880</td>\n",
              "      <td>0</td>\n",
              "      <td>no</td>\n",
              "      <td>northwest</td>\n",
              "      <td>3866.85520</td>\n",
              "    </tr>\n",
              "  </tbody>\n",
              "</table>\n",
              "</div>"
            ],
            "text/plain": [
              "   age     sex     bmi  children smoker     region      charges\n",
              "0   19  female  27.900         0    yes  southwest  16884.92400\n",
              "1   18    male  33.770         1     no  southeast   1725.55230\n",
              "2   28    male  33.000         3     no  southeast   4449.46200\n",
              "3   33    male  22.705         0     no  northwest  21984.47061\n",
              "4   32    male  28.880         0     no  northwest   3866.85520"
            ]
          },
          "metadata": {
            "tags": []
          },
          "execution_count": 1
        }
      ]
    },
    {
      "cell_type": "code",
      "metadata": {
        "id": "f4IW3BPFMOSK",
        "colab": {
          "base_uri": "https://localhost:8080/",
          "height": 287
        },
        "outputId": "c92902dd-2d24-40f8-8ee0-2e8fd669ad46"
      },
      "source": [
        "df.describe()"
      ],
      "execution_count": null,
      "outputs": [
        {
          "output_type": "execute_result",
          "data": {
            "text/html": [
              "<div>\n",
              "<style scoped>\n",
              "    .dataframe tbody tr th:only-of-type {\n",
              "        vertical-align: middle;\n",
              "    }\n",
              "\n",
              "    .dataframe tbody tr th {\n",
              "        vertical-align: top;\n",
              "    }\n",
              "\n",
              "    .dataframe thead th {\n",
              "        text-align: right;\n",
              "    }\n",
              "</style>\n",
              "<table border=\"1\" class=\"dataframe\">\n",
              "  <thead>\n",
              "    <tr style=\"text-align: right;\">\n",
              "      <th></th>\n",
              "      <th>age</th>\n",
              "      <th>bmi</th>\n",
              "      <th>children</th>\n",
              "      <th>charges</th>\n",
              "    </tr>\n",
              "  </thead>\n",
              "  <tbody>\n",
              "    <tr>\n",
              "      <th>count</th>\n",
              "      <td>1338.000000</td>\n",
              "      <td>1338.000000</td>\n",
              "      <td>1338.000000</td>\n",
              "      <td>1338.000000</td>\n",
              "    </tr>\n",
              "    <tr>\n",
              "      <th>mean</th>\n",
              "      <td>39.207025</td>\n",
              "      <td>30.663397</td>\n",
              "      <td>1.094918</td>\n",
              "      <td>13270.422265</td>\n",
              "    </tr>\n",
              "    <tr>\n",
              "      <th>std</th>\n",
              "      <td>14.049960</td>\n",
              "      <td>6.098187</td>\n",
              "      <td>1.205493</td>\n",
              "      <td>12110.011237</td>\n",
              "    </tr>\n",
              "    <tr>\n",
              "      <th>min</th>\n",
              "      <td>18.000000</td>\n",
              "      <td>15.960000</td>\n",
              "      <td>0.000000</td>\n",
              "      <td>1121.873900</td>\n",
              "    </tr>\n",
              "    <tr>\n",
              "      <th>25%</th>\n",
              "      <td>27.000000</td>\n",
              "      <td>26.296250</td>\n",
              "      <td>0.000000</td>\n",
              "      <td>4740.287150</td>\n",
              "    </tr>\n",
              "    <tr>\n",
              "      <th>50%</th>\n",
              "      <td>39.000000</td>\n",
              "      <td>30.400000</td>\n",
              "      <td>1.000000</td>\n",
              "      <td>9382.033000</td>\n",
              "    </tr>\n",
              "    <tr>\n",
              "      <th>75%</th>\n",
              "      <td>51.000000</td>\n",
              "      <td>34.693750</td>\n",
              "      <td>2.000000</td>\n",
              "      <td>16639.912515</td>\n",
              "    </tr>\n",
              "    <tr>\n",
              "      <th>max</th>\n",
              "      <td>64.000000</td>\n",
              "      <td>53.130000</td>\n",
              "      <td>5.000000</td>\n",
              "      <td>63770.428010</td>\n",
              "    </tr>\n",
              "  </tbody>\n",
              "</table>\n",
              "</div>"
            ],
            "text/plain": [
              "               age          bmi     children       charges\n",
              "count  1338.000000  1338.000000  1338.000000   1338.000000\n",
              "mean     39.207025    30.663397     1.094918  13270.422265\n",
              "std      14.049960     6.098187     1.205493  12110.011237\n",
              "min      18.000000    15.960000     0.000000   1121.873900\n",
              "25%      27.000000    26.296250     0.000000   4740.287150\n",
              "50%      39.000000    30.400000     1.000000   9382.033000\n",
              "75%      51.000000    34.693750     2.000000  16639.912515\n",
              "max      64.000000    53.130000     5.000000  63770.428010"
            ]
          },
          "metadata": {
            "tags": []
          },
          "execution_count": 5
        }
      ]
    },
    {
      "cell_type": "code",
      "metadata": {
        "colab": {
          "base_uri": "https://localhost:8080/"
        },
        "id": "6zbB0e7SLMDf",
        "outputId": "e13da3d6-3e71-40de-a5a8-f02417f1826a"
      },
      "source": [
        "print('age: ' + str(df.age.count))\n",
        "print('sex: ' + str(df.sex.count))\n",
        "print('bmi: ' + str(df.bmi.count))\n",
        "print('children: ' + str(df.children.count))\n",
        "print('smoker: ' + str(df.smoker.count))\n",
        "print('region: ' + str(df.region.count))\n",
        "print('charges: ' + str(df.charges.count))"
      ],
      "execution_count": null,
      "outputs": [
        {
          "output_type": "stream",
          "text": [
            "age: <bound method Series.count of 0       19\n",
            "1       18\n",
            "2       28\n",
            "3       33\n",
            "4       32\n",
            "        ..\n",
            "1333    50\n",
            "1334    18\n",
            "1335    18\n",
            "1336    21\n",
            "1337    61\n",
            "Name: age, Length: 1338, dtype: int64>\n",
            "sex: <bound method Series.count of 0       female\n",
            "1         male\n",
            "2         male\n",
            "3         male\n",
            "4         male\n",
            "         ...  \n",
            "1333      male\n",
            "1334    female\n",
            "1335    female\n",
            "1336    female\n",
            "1337    female\n",
            "Name: sex, Length: 1338, dtype: object>\n",
            "bmi: <bound method Series.count of 0       27.900\n",
            "1       33.770\n",
            "2       33.000\n",
            "3       22.705\n",
            "4       28.880\n",
            "         ...  \n",
            "1333    30.970\n",
            "1334    31.920\n",
            "1335    36.850\n",
            "1336    25.800\n",
            "1337    29.070\n",
            "Name: bmi, Length: 1338, dtype: float64>\n",
            "children: <bound method Series.count of 0       0\n",
            "1       1\n",
            "2       3\n",
            "3       0\n",
            "4       0\n",
            "       ..\n",
            "1333    3\n",
            "1334    0\n",
            "1335    0\n",
            "1336    0\n",
            "1337    0\n",
            "Name: children, Length: 1338, dtype: int64>\n",
            "smoker: <bound method Series.count of 0       yes\n",
            "1        no\n",
            "2        no\n",
            "3        no\n",
            "4        no\n",
            "       ... \n",
            "1333     no\n",
            "1334     no\n",
            "1335     no\n",
            "1336     no\n",
            "1337    yes\n",
            "Name: smoker, Length: 1338, dtype: object>\n",
            "region: <bound method Series.count of 0       southwest\n",
            "1       southeast\n",
            "2       southeast\n",
            "3       northwest\n",
            "4       northwest\n",
            "          ...    \n",
            "1333    northwest\n",
            "1334    northeast\n",
            "1335    southeast\n",
            "1336    southwest\n",
            "1337    northwest\n",
            "Name: region, Length: 1338, dtype: object>\n",
            "charges: <bound method Series.count of 0       16884.92400\n",
            "1        1725.55230\n",
            "2        4449.46200\n",
            "3       21984.47061\n",
            "4        3866.85520\n",
            "           ...     \n",
            "1333    10600.54830\n",
            "1334     2205.98080\n",
            "1335     1629.83350\n",
            "1336     2007.94500\n",
            "1337    29141.36030\n",
            "Name: charges, Length: 1338, dtype: float64>\n"
          ],
          "name": "stdout"
        }
      ]
    },
    {
      "cell_type": "code",
      "metadata": {
        "colab": {
          "base_uri": "https://localhost:8080/"
        },
        "id": "RPiWBu9OLmrS",
        "outputId": "6331a830-7c99-4179-ea01-2f909ef662c7"
      },
      "source": [
        "print('age: ' + str(df.age.nunique))\n",
        "print('sex: ' + str(df.sex.nunique))\n",
        "print('bmi: ' + str(df.bmi.nunique))\n",
        "print('children: ' + str(df.children.nunique))\n",
        "print('smoker: ' + str(df.smoker.nunique))\n",
        "print('region: ' + str(df.region.nunique))\n",
        "print('charges: ' + str(df.charges.nunique))"
      ],
      "execution_count": null,
      "outputs": [
        {
          "output_type": "stream",
          "text": [
            "age: <bound method IndexOpsMixin.nunique of 0       19\n",
            "1       18\n",
            "2       28\n",
            "3       33\n",
            "4       32\n",
            "        ..\n",
            "1333    50\n",
            "1334    18\n",
            "1335    18\n",
            "1336    21\n",
            "1337    61\n",
            "Name: age, Length: 1338, dtype: int64>\n",
            "sex: <bound method IndexOpsMixin.nunique of 0       female\n",
            "1         male\n",
            "2         male\n",
            "3         male\n",
            "4         male\n",
            "         ...  \n",
            "1333      male\n",
            "1334    female\n",
            "1335    female\n",
            "1336    female\n",
            "1337    female\n",
            "Name: sex, Length: 1338, dtype: object>\n",
            "bmi: <bound method IndexOpsMixin.nunique of 0       27.900\n",
            "1       33.770\n",
            "2       33.000\n",
            "3       22.705\n",
            "4       28.880\n",
            "         ...  \n",
            "1333    30.970\n",
            "1334    31.920\n",
            "1335    36.850\n",
            "1336    25.800\n",
            "1337    29.070\n",
            "Name: bmi, Length: 1338, dtype: float64>\n",
            "children: <bound method IndexOpsMixin.nunique of 0       0\n",
            "1       1\n",
            "2       3\n",
            "3       0\n",
            "4       0\n",
            "       ..\n",
            "1333    3\n",
            "1334    0\n",
            "1335    0\n",
            "1336    0\n",
            "1337    0\n",
            "Name: children, Length: 1338, dtype: int64>\n",
            "smoker: <bound method IndexOpsMixin.nunique of 0       yes\n",
            "1        no\n",
            "2        no\n",
            "3        no\n",
            "4        no\n",
            "       ... \n",
            "1333     no\n",
            "1334     no\n",
            "1335     no\n",
            "1336     no\n",
            "1337    yes\n",
            "Name: smoker, Length: 1338, dtype: object>\n",
            "region: <bound method IndexOpsMixin.nunique of 0       southwest\n",
            "1       southeast\n",
            "2       southeast\n",
            "3       northwest\n",
            "4       northwest\n",
            "          ...    \n",
            "1333    northwest\n",
            "1334    northeast\n",
            "1335    southeast\n",
            "1336    southwest\n",
            "1337    northwest\n",
            "Name: region, Length: 1338, dtype: object>\n",
            "charges: <bound method IndexOpsMixin.nunique of 0       16884.92400\n",
            "1        1725.55230\n",
            "2        4449.46200\n",
            "3       21984.47061\n",
            "4        3866.85520\n",
            "           ...     \n",
            "1333    10600.54830\n",
            "1334     2205.98080\n",
            "1335     1629.83350\n",
            "1336     2007.94500\n",
            "1337    29141.36030\n",
            "Name: charges, Length: 1338, dtype: float64>\n"
          ],
          "name": "stdout"
        }
      ]
    },
    {
      "cell_type": "code",
      "metadata": {
        "colab": {
          "base_uri": "https://localhost:8080/"
        },
        "id": "9wHR02c4jUES",
        "outputId": "e4971048-6f8c-4e65-eb05-ceab855b85c8"
      },
      "source": [
        "print(df.charges.std())"
      ],
      "execution_count": null,
      "outputs": [
        {
          "output_type": "stream",
          "text": [
            "12110.011236693994\n"
          ],
          "name": "stdout"
        }
      ]
    },
    {
      "cell_type": "code",
      "metadata": {
        "colab": {
          "base_uri": "https://localhost:8080/"
        },
        "id": "nvPrcITWjXOO",
        "outputId": "da58fa63-44b8-419b-b4e4-5bfd7a97ed7c"
      },
      "source": [
        "print(df.charges.mean())\n",
        "print(df['charges'].std())"
      ],
      "execution_count": null,
      "outputs": [
        {
          "output_type": "stream",
          "text": [
            "13270.422265141257\n",
            "12110.011236693994\n"
          ],
          "name": "stdout"
        }
      ]
    },
    {
      "cell_type": "code",
      "metadata": {
        "colab": {
          "base_uri": "https://localhost:8080/"
        },
        "id": "tTqpnv50jhsx",
        "outputId": "4a7af050-1fb2-4546-e5d6-60b1df19e74d"
      },
      "source": [
        "print(df.std())"
      ],
      "execution_count": null,
      "outputs": [
        {
          "output_type": "stream",
          "text": [
            "age            14.049960\n",
            "bmi             6.098187\n",
            "children        1.205493\n",
            "charges     12110.011237\n",
            "dtype: float64\n"
          ],
          "name": "stdout"
        }
      ]
    },
    {
      "cell_type": "code",
      "metadata": {
        "colab": {
          "base_uri": "https://localhost:8080/"
        },
        "id": "354y98z1jjB9",
        "outputId": "4e23d7dc-6163-4763-91e8-c70f8de9efa0"
      },
      "source": [
        "from scipy.stats import kurtosis, skew\n",
        "print(df.charges.skew())\n",
        "print(df.charges.kurtosis())"
      ],
      "execution_count": null,
      "outputs": [
        {
          "output_type": "stream",
          "text": [
            "1.5158796580240388\n",
            "1.6062986532967907\n"
          ],
          "name": "stdout"
        }
      ]
    },
    {
      "cell_type": "code",
      "metadata": {
        "colab": {
          "base_uri": "https://localhost:8080/"
        },
        "id": "srx2rIaLkXxs",
        "outputId": "bf444660-dc6d-4c89-9c76-b6486e4ef573"
      },
      "source": [
        "print(df.skew())\n",
        "print(df.kurt())"
      ],
      "execution_count": null,
      "outputs": [
        {
          "output_type": "stream",
          "text": [
            "age         0.055673\n",
            "bmi         0.284047\n",
            "children    0.938380\n",
            "charges     1.515880\n",
            "dtype: float64\n",
            "age        -1.245088\n",
            "bmi        -0.050732\n",
            "children    0.202454\n",
            "charges     1.606299\n",
            "dtype: float64\n"
          ],
          "name": "stdout"
        }
      ]
    },
    {
      "cell_type": "code",
      "metadata": {
        "colab": {
          "base_uri": "https://localhost:8080/",
          "height": 197
        },
        "id": "SRYAbWUpl7Eq",
        "outputId": "ba50463f-c553-4a49-e81d-3902715fe7bc"
      },
      "source": [
        "import pandas as pd\n",
        "df = pd.read_csv('https://www.ishelp.info/data/heart_attack_clean.csv')\n",
        "df.head()"
      ],
      "execution_count": null,
      "outputs": [
        {
          "output_type": "execute_result",
          "data": {
            "text/html": [
              "<div>\n",
              "<style scoped>\n",
              "    .dataframe tbody tr th:only-of-type {\n",
              "        vertical-align: middle;\n",
              "    }\n",
              "\n",
              "    .dataframe tbody tr th {\n",
              "        vertical-align: top;\n",
              "    }\n",
              "\n",
              "    .dataframe thead th {\n",
              "        text-align: right;\n",
              "    }\n",
              "</style>\n",
              "<table border=\"1\" class=\"dataframe\">\n",
              "  <thead>\n",
              "    <tr style=\"text-align: right;\">\n",
              "      <th></th>\n",
              "      <th>age</th>\n",
              "      <th>sex</th>\n",
              "      <th>cp</th>\n",
              "      <th>trestbps</th>\n",
              "      <th>chol</th>\n",
              "      <th>fbs</th>\n",
              "      <th>restecg</th>\n",
              "      <th>thalach</th>\n",
              "      <th>exang</th>\n",
              "      <th>oldpeak</th>\n",
              "      <th>num</th>\n",
              "    </tr>\n",
              "  </thead>\n",
              "  <tbody>\n",
              "    <tr>\n",
              "      <th>0</th>\n",
              "      <td>28</td>\n",
              "      <td>1</td>\n",
              "      <td>2</td>\n",
              "      <td>130</td>\n",
              "      <td>132</td>\n",
              "      <td>0</td>\n",
              "      <td>2</td>\n",
              "      <td>185</td>\n",
              "      <td>0</td>\n",
              "      <td>0.0</td>\n",
              "      <td>0</td>\n",
              "    </tr>\n",
              "    <tr>\n",
              "      <th>1</th>\n",
              "      <td>29</td>\n",
              "      <td>1</td>\n",
              "      <td>2</td>\n",
              "      <td>120</td>\n",
              "      <td>243</td>\n",
              "      <td>0</td>\n",
              "      <td>0</td>\n",
              "      <td>160</td>\n",
              "      <td>0</td>\n",
              "      <td>0.0</td>\n",
              "      <td>0</td>\n",
              "    </tr>\n",
              "    <tr>\n",
              "      <th>2</th>\n",
              "      <td>30</td>\n",
              "      <td>0</td>\n",
              "      <td>1</td>\n",
              "      <td>170</td>\n",
              "      <td>237</td>\n",
              "      <td>0</td>\n",
              "      <td>1</td>\n",
              "      <td>170</td>\n",
              "      <td>0</td>\n",
              "      <td>0.0</td>\n",
              "      <td>0</td>\n",
              "    </tr>\n",
              "    <tr>\n",
              "      <th>3</th>\n",
              "      <td>31</td>\n",
              "      <td>0</td>\n",
              "      <td>2</td>\n",
              "      <td>100</td>\n",
              "      <td>219</td>\n",
              "      <td>0</td>\n",
              "      <td>1</td>\n",
              "      <td>150</td>\n",
              "      <td>0</td>\n",
              "      <td>0.0</td>\n",
              "      <td>0</td>\n",
              "    </tr>\n",
              "    <tr>\n",
              "      <th>4</th>\n",
              "      <td>32</td>\n",
              "      <td>0</td>\n",
              "      <td>2</td>\n",
              "      <td>105</td>\n",
              "      <td>198</td>\n",
              "      <td>0</td>\n",
              "      <td>0</td>\n",
              "      <td>165</td>\n",
              "      <td>0</td>\n",
              "      <td>0.0</td>\n",
              "      <td>0</td>\n",
              "    </tr>\n",
              "  </tbody>\n",
              "</table>\n",
              "</div>"
            ],
            "text/plain": [
              "   age  sex  cp  trestbps  chol  fbs  restecg  thalach  exang  oldpeak  num\n",
              "0   28    1   2       130   132    0        2      185      0      0.0    0\n",
              "1   29    1   2       120   243    0        0      160      0      0.0    0\n",
              "2   30    0   1       170   237    0        1      170      0      0.0    0\n",
              "3   31    0   2       100   219    0        1      150      0      0.0    0\n",
              "4   32    0   2       105   198    0        0      165      0      0.0    0"
            ]
          },
          "metadata": {
            "tags": []
          },
          "execution_count": 1
        }
      ]
    },
    {
      "cell_type": "code",
      "metadata": {
        "colab": {
          "base_uri": "https://localhost:8080/"
        },
        "id": "AiRJZG9Zmhqx",
        "outputId": "ee76d218-6c96-438b-9b26-5697bbf05062"
      },
      "source": [
        "print(df.shape)\n",
        "print()\n",
        "print(df.nunique())\n",
        "print()\n",
        "print(df.dtypes)"
      ],
      "execution_count": null,
      "outputs": [
        {
          "output_type": "stream",
          "text": [
            "(261, 11)\n",
            "\n",
            "age          37\n",
            "sex           2\n",
            "cp            4\n",
            "trestbps     30\n",
            "chol        150\n",
            "fbs           2\n",
            "restecg       3\n",
            "thalach      67\n",
            "exang         2\n",
            "oldpeak      10\n",
            "num           2\n",
            "dtype: int64\n",
            "\n",
            "age           int64\n",
            "sex           int64\n",
            "cp            int64\n",
            "trestbps      int64\n",
            "chol          int64\n",
            "fbs           int64\n",
            "restecg       int64\n",
            "thalach       int64\n",
            "exang         int64\n",
            "oldpeak     float64\n",
            "num           int64\n",
            "dtype: object\n"
          ],
          "name": "stdout"
        }
      ]
    },
    {
      "cell_type": "code",
      "metadata": {
        "colab": {
          "base_uri": "https://localhost:8080/"
        },
        "id": "l8AEOUN4mou1",
        "outputId": "85b0cd0c-1518-4b6b-9524-c56085db1fa9"
      },
      "source": [
        "print(df.min())\n",
        "print()\n",
        "print(df.quantile(.25))\n",
        "print()\n",
        "print(df.median())\n",
        "print()\n",
        "print(df.quantile(.75))\n",
        "print()\n",
        "print(df.max())\n",
        "print()\n",
        "print(df.mean())\n",
        "print()\n",
        "print(df.mode().values[0])\n",
        "print()\n",
        "print(df.std())\n",
        "print()\n",
        "print(df.skew())\n",
        "print()\n",
        "print(df.kurt())"
      ],
      "execution_count": null,
      "outputs": [
        {
          "output_type": "stream",
          "text": [
            "age         28.0\n",
            "sex          0.0\n",
            "cp           1.0\n",
            "trestbps    92.0\n",
            "chol        85.0\n",
            "fbs          0.0\n",
            "restecg      0.0\n",
            "thalach     82.0\n",
            "exang        0.0\n",
            "oldpeak      0.0\n",
            "num          0.0\n",
            "dtype: float64\n",
            "\n",
            "age          42.0\n",
            "sex           0.0\n",
            "cp            2.0\n",
            "trestbps    120.0\n",
            "chol        208.0\n",
            "fbs           0.0\n",
            "restecg       0.0\n",
            "thalach     122.0\n",
            "exang         0.0\n",
            "oldpeak       0.0\n",
            "num           0.0\n",
            "Name: 0.25, dtype: float64\n",
            "\n",
            "age          49.0\n",
            "sex           1.0\n",
            "cp            3.0\n",
            "trestbps    130.0\n",
            "chol        242.0\n",
            "fbs           0.0\n",
            "restecg       0.0\n",
            "thalach     140.0\n",
            "exang         0.0\n",
            "oldpeak       0.0\n",
            "num           0.0\n",
            "dtype: float64\n",
            "\n",
            "age          54.0\n",
            "sex           1.0\n",
            "cp            4.0\n",
            "trestbps    140.0\n",
            "chol        280.0\n",
            "fbs           0.0\n",
            "restecg       0.0\n",
            "thalach     155.0\n",
            "exang         1.0\n",
            "oldpeak       1.0\n",
            "num           1.0\n",
            "Name: 0.75, dtype: float64\n",
            "\n",
            "age          65.0\n",
            "sex           1.0\n",
            "cp            4.0\n",
            "trestbps    200.0\n",
            "chol        603.0\n",
            "fbs           1.0\n",
            "restecg       2.0\n",
            "thalach     190.0\n",
            "exang         1.0\n",
            "oldpeak       5.0\n",
            "num           1.0\n",
            "dtype: float64\n",
            "\n",
            "age          47.770115\n",
            "sex           0.735632\n",
            "cp            3.003831\n",
            "trestbps    132.639847\n",
            "chol        248.823755\n",
            "fbs           0.072797\n",
            "restecg       0.226054\n",
            "thalach     139.226054\n",
            "exang         0.318008\n",
            "oldpeak       0.612261\n",
            "num           0.375479\n",
            "dtype: float64\n",
            "\n",
            "[ 54.   1.   4. 120. 230.   0.   0. 150.   0.   0.   0.]\n",
            "\n",
            "age          7.842244\n",
            "sex          0.441843\n",
            "cp           0.970718\n",
            "trestbps    17.709857\n",
            "chol        65.667985\n",
            "fbs          0.260302\n",
            "restecg      0.470935\n",
            "thalach     23.757401\n",
            "exang        0.466597\n",
            "oldpeak      0.931914\n",
            "num          0.485177\n",
            "dtype: float64\n",
            "\n",
            "age        -0.295159\n",
            "sex        -1.074823\n",
            "cp         -0.261933\n",
            "trestbps    0.747295\n",
            "chol        1.447011\n",
            "fbs         3.307711\n",
            "restecg     1.962358\n",
            "thalach    -0.126144\n",
            "exang       0.786107\n",
            "oldpeak     1.511448\n",
            "num         0.517266\n",
            "dtype: float64\n",
            "\n",
            "age        -0.569402\n",
            "sex        -0.851337\n",
            "cp         -1.412857\n",
            "trestbps    0.817625\n",
            "chol        5.111942\n",
            "fbs         9.009936\n",
            "restecg     3.112579\n",
            "thalach    -0.611899\n",
            "exang      -1.392767\n",
            "oldpeak     2.027892\n",
            "num        -1.745874\n",
            "dtype: float64\n"
          ],
          "name": "stdout"
        }
      ]
    },
    {
      "cell_type": "code",
      "metadata": {
        "colab": {
          "base_uri": "https://localhost:8080/",
          "height": 347
        },
        "id": "BR-h8rDymw16",
        "outputId": "0afa45f7-60fc-4a7d-f266-d07f2e774cad"
      },
      "source": [
        "ha_df = pd.DataFrame(columns=[df.columns], index=['Count', 'Unique', 'Type', 'Min', 'Median', 'Mode', 'Mean', 'Std', 'Skew', 'Kurt'])\n",
        "ha_df"
      ],
      "execution_count": null,
      "outputs": [
        {
          "output_type": "execute_result",
          "data": {
            "text/html": [
              "<div>\n",
              "<style scoped>\n",
              "    .dataframe tbody tr th:only-of-type {\n",
              "        vertical-align: middle;\n",
              "    }\n",
              "\n",
              "    .dataframe tbody tr th {\n",
              "        vertical-align: top;\n",
              "    }\n",
              "\n",
              "    .dataframe thead tr th {\n",
              "        text-align: left;\n",
              "    }\n",
              "</style>\n",
              "<table border=\"1\" class=\"dataframe\">\n",
              "  <thead>\n",
              "    <tr>\n",
              "      <th></th>\n",
              "      <th>age</th>\n",
              "      <th>sex</th>\n",
              "      <th>cp</th>\n",
              "      <th>trestbps</th>\n",
              "      <th>chol</th>\n",
              "      <th>fbs</th>\n",
              "      <th>restecg</th>\n",
              "      <th>thalach</th>\n",
              "      <th>exang</th>\n",
              "      <th>oldpeak</th>\n",
              "      <th>num</th>\n",
              "    </tr>\n",
              "  </thead>\n",
              "  <tbody>\n",
              "    <tr>\n",
              "      <th>Count</th>\n",
              "      <td>NaN</td>\n",
              "      <td>NaN</td>\n",
              "      <td>NaN</td>\n",
              "      <td>NaN</td>\n",
              "      <td>NaN</td>\n",
              "      <td>NaN</td>\n",
              "      <td>NaN</td>\n",
              "      <td>NaN</td>\n",
              "      <td>NaN</td>\n",
              "      <td>NaN</td>\n",
              "      <td>NaN</td>\n",
              "    </tr>\n",
              "    <tr>\n",
              "      <th>Unique</th>\n",
              "      <td>NaN</td>\n",
              "      <td>NaN</td>\n",
              "      <td>NaN</td>\n",
              "      <td>NaN</td>\n",
              "      <td>NaN</td>\n",
              "      <td>NaN</td>\n",
              "      <td>NaN</td>\n",
              "      <td>NaN</td>\n",
              "      <td>NaN</td>\n",
              "      <td>NaN</td>\n",
              "      <td>NaN</td>\n",
              "    </tr>\n",
              "    <tr>\n",
              "      <th>Type</th>\n",
              "      <td>NaN</td>\n",
              "      <td>NaN</td>\n",
              "      <td>NaN</td>\n",
              "      <td>NaN</td>\n",
              "      <td>NaN</td>\n",
              "      <td>NaN</td>\n",
              "      <td>NaN</td>\n",
              "      <td>NaN</td>\n",
              "      <td>NaN</td>\n",
              "      <td>NaN</td>\n",
              "      <td>NaN</td>\n",
              "    </tr>\n",
              "    <tr>\n",
              "      <th>Min</th>\n",
              "      <td>NaN</td>\n",
              "      <td>NaN</td>\n",
              "      <td>NaN</td>\n",
              "      <td>NaN</td>\n",
              "      <td>NaN</td>\n",
              "      <td>NaN</td>\n",
              "      <td>NaN</td>\n",
              "      <td>NaN</td>\n",
              "      <td>NaN</td>\n",
              "      <td>NaN</td>\n",
              "      <td>NaN</td>\n",
              "    </tr>\n",
              "    <tr>\n",
              "      <th>Median</th>\n",
              "      <td>NaN</td>\n",
              "      <td>NaN</td>\n",
              "      <td>NaN</td>\n",
              "      <td>NaN</td>\n",
              "      <td>NaN</td>\n",
              "      <td>NaN</td>\n",
              "      <td>NaN</td>\n",
              "      <td>NaN</td>\n",
              "      <td>NaN</td>\n",
              "      <td>NaN</td>\n",
              "      <td>NaN</td>\n",
              "    </tr>\n",
              "    <tr>\n",
              "      <th>Mode</th>\n",
              "      <td>NaN</td>\n",
              "      <td>NaN</td>\n",
              "      <td>NaN</td>\n",
              "      <td>NaN</td>\n",
              "      <td>NaN</td>\n",
              "      <td>NaN</td>\n",
              "      <td>NaN</td>\n",
              "      <td>NaN</td>\n",
              "      <td>NaN</td>\n",
              "      <td>NaN</td>\n",
              "      <td>NaN</td>\n",
              "    </tr>\n",
              "    <tr>\n",
              "      <th>Mean</th>\n",
              "      <td>NaN</td>\n",
              "      <td>NaN</td>\n",
              "      <td>NaN</td>\n",
              "      <td>NaN</td>\n",
              "      <td>NaN</td>\n",
              "      <td>NaN</td>\n",
              "      <td>NaN</td>\n",
              "      <td>NaN</td>\n",
              "      <td>NaN</td>\n",
              "      <td>NaN</td>\n",
              "      <td>NaN</td>\n",
              "    </tr>\n",
              "    <tr>\n",
              "      <th>Std</th>\n",
              "      <td>NaN</td>\n",
              "      <td>NaN</td>\n",
              "      <td>NaN</td>\n",
              "      <td>NaN</td>\n",
              "      <td>NaN</td>\n",
              "      <td>NaN</td>\n",
              "      <td>NaN</td>\n",
              "      <td>NaN</td>\n",
              "      <td>NaN</td>\n",
              "      <td>NaN</td>\n",
              "      <td>NaN</td>\n",
              "    </tr>\n",
              "    <tr>\n",
              "      <th>Skew</th>\n",
              "      <td>NaN</td>\n",
              "      <td>NaN</td>\n",
              "      <td>NaN</td>\n",
              "      <td>NaN</td>\n",
              "      <td>NaN</td>\n",
              "      <td>NaN</td>\n",
              "      <td>NaN</td>\n",
              "      <td>NaN</td>\n",
              "      <td>NaN</td>\n",
              "      <td>NaN</td>\n",
              "      <td>NaN</td>\n",
              "    </tr>\n",
              "    <tr>\n",
              "      <th>Kurt</th>\n",
              "      <td>NaN</td>\n",
              "      <td>NaN</td>\n",
              "      <td>NaN</td>\n",
              "      <td>NaN</td>\n",
              "      <td>NaN</td>\n",
              "      <td>NaN</td>\n",
              "      <td>NaN</td>\n",
              "      <td>NaN</td>\n",
              "      <td>NaN</td>\n",
              "      <td>NaN</td>\n",
              "      <td>NaN</td>\n",
              "    </tr>\n",
              "  </tbody>\n",
              "</table>\n",
              "</div>"
            ],
            "text/plain": [
              "        age  sex   cp trestbps chol  fbs restecg thalach exang oldpeak  num\n",
              "Count   NaN  NaN  NaN      NaN  NaN  NaN     NaN     NaN   NaN     NaN  NaN\n",
              "Unique  NaN  NaN  NaN      NaN  NaN  NaN     NaN     NaN   NaN     NaN  NaN\n",
              "Type    NaN  NaN  NaN      NaN  NaN  NaN     NaN     NaN   NaN     NaN  NaN\n",
              "Min     NaN  NaN  NaN      NaN  NaN  NaN     NaN     NaN   NaN     NaN  NaN\n",
              "Median  NaN  NaN  NaN      NaN  NaN  NaN     NaN     NaN   NaN     NaN  NaN\n",
              "Mode    NaN  NaN  NaN      NaN  NaN  NaN     NaN     NaN   NaN     NaN  NaN\n",
              "Mean    NaN  NaN  NaN      NaN  NaN  NaN     NaN     NaN   NaN     NaN  NaN\n",
              "Std     NaN  NaN  NaN      NaN  NaN  NaN     NaN     NaN   NaN     NaN  NaN\n",
              "Skew    NaN  NaN  NaN      NaN  NaN  NaN     NaN     NaN   NaN     NaN  NaN\n",
              "Kurt    NaN  NaN  NaN      NaN  NaN  NaN     NaN     NaN   NaN     NaN  NaN"
            ]
          },
          "metadata": {
            "tags": []
          },
          "execution_count": 4
        }
      ]
    },
    {
      "cell_type": "code",
      "metadata": {
        "colab": {
          "base_uri": "https://localhost:8080/",
          "height": 437
        },
        "id": "N4L3_BLQnXmT",
        "outputId": "031234c7-88f5-492e-c0a4-1157b4d6b2b0"
      },
      "source": [
        "ha_df.loc['Type'] = list(df.dtypes)\n",
        "ha_df.loc['Count'] = list(df.count())\n",
        "ha_df.loc['Unique'] = list(df.nunique())\n",
        "ha_df.loc['Mode'] = list(df.mode().values[0])\n",
        "ha_df.loc['Min'] = list(df.min())\n",
        "ha_df.loc['25%'] = list(df.quantile(.25))\n",
        "ha_df.loc['Median'] = list(df.median())\n",
        "ha_df.loc['75%'] = list(df.quantile(.75))\n",
        "ha_df.loc['Max'] = list(df.max())\n",
        "ha_df.loc['Mean'] = list(df.mean())\n",
        "ha_df.loc['Std'] = list(df.std())\n",
        "ha_df.loc['Skew'] = list(df.skew())\n",
        "ha_df.loc['Kurt'] = list(df.kurt())\n",
        "ha_df"
      ],
      "execution_count": null,
      "outputs": [
        {
          "output_type": "execute_result",
          "data": {
            "text/html": [
              "<div>\n",
              "<style scoped>\n",
              "    .dataframe tbody tr th:only-of-type {\n",
              "        vertical-align: middle;\n",
              "    }\n",
              "\n",
              "    .dataframe tbody tr th {\n",
              "        vertical-align: top;\n",
              "    }\n",
              "\n",
              "    .dataframe thead tr th {\n",
              "        text-align: left;\n",
              "    }\n",
              "</style>\n",
              "<table border=\"1\" class=\"dataframe\">\n",
              "  <thead>\n",
              "    <tr>\n",
              "      <th></th>\n",
              "      <th>age</th>\n",
              "      <th>sex</th>\n",
              "      <th>cp</th>\n",
              "      <th>trestbps</th>\n",
              "      <th>chol</th>\n",
              "      <th>fbs</th>\n",
              "      <th>restecg</th>\n",
              "      <th>thalach</th>\n",
              "      <th>exang</th>\n",
              "      <th>oldpeak</th>\n",
              "      <th>num</th>\n",
              "    </tr>\n",
              "  </thead>\n",
              "  <tbody>\n",
              "    <tr>\n",
              "      <th>Count</th>\n",
              "      <td>261</td>\n",
              "      <td>261</td>\n",
              "      <td>261</td>\n",
              "      <td>261</td>\n",
              "      <td>261</td>\n",
              "      <td>261</td>\n",
              "      <td>261</td>\n",
              "      <td>261</td>\n",
              "      <td>261</td>\n",
              "      <td>261</td>\n",
              "      <td>261</td>\n",
              "    </tr>\n",
              "    <tr>\n",
              "      <th>Unique</th>\n",
              "      <td>37</td>\n",
              "      <td>2</td>\n",
              "      <td>4</td>\n",
              "      <td>30</td>\n",
              "      <td>150</td>\n",
              "      <td>2</td>\n",
              "      <td>3</td>\n",
              "      <td>67</td>\n",
              "      <td>2</td>\n",
              "      <td>10</td>\n",
              "      <td>2</td>\n",
              "    </tr>\n",
              "    <tr>\n",
              "      <th>Type</th>\n",
              "      <td>int64</td>\n",
              "      <td>int64</td>\n",
              "      <td>int64</td>\n",
              "      <td>int64</td>\n",
              "      <td>int64</td>\n",
              "      <td>int64</td>\n",
              "      <td>int64</td>\n",
              "      <td>int64</td>\n",
              "      <td>int64</td>\n",
              "      <td>float64</td>\n",
              "      <td>int64</td>\n",
              "    </tr>\n",
              "    <tr>\n",
              "      <th>Min</th>\n",
              "      <td>28</td>\n",
              "      <td>0</td>\n",
              "      <td>1</td>\n",
              "      <td>92</td>\n",
              "      <td>85</td>\n",
              "      <td>0</td>\n",
              "      <td>0</td>\n",
              "      <td>82</td>\n",
              "      <td>0</td>\n",
              "      <td>0</td>\n",
              "      <td>0</td>\n",
              "    </tr>\n",
              "    <tr>\n",
              "      <th>Median</th>\n",
              "      <td>49</td>\n",
              "      <td>1</td>\n",
              "      <td>3</td>\n",
              "      <td>130</td>\n",
              "      <td>242</td>\n",
              "      <td>0</td>\n",
              "      <td>0</td>\n",
              "      <td>140</td>\n",
              "      <td>0</td>\n",
              "      <td>0</td>\n",
              "      <td>0</td>\n",
              "    </tr>\n",
              "    <tr>\n",
              "      <th>Mode</th>\n",
              "      <td>54</td>\n",
              "      <td>1</td>\n",
              "      <td>4</td>\n",
              "      <td>120</td>\n",
              "      <td>230</td>\n",
              "      <td>0</td>\n",
              "      <td>0</td>\n",
              "      <td>150</td>\n",
              "      <td>0</td>\n",
              "      <td>0</td>\n",
              "      <td>0</td>\n",
              "    </tr>\n",
              "    <tr>\n",
              "      <th>Mean</th>\n",
              "      <td>47.7701</td>\n",
              "      <td>0.735632</td>\n",
              "      <td>3.00383</td>\n",
              "      <td>132.64</td>\n",
              "      <td>248.824</td>\n",
              "      <td>0.0727969</td>\n",
              "      <td>0.226054</td>\n",
              "      <td>139.226</td>\n",
              "      <td>0.318008</td>\n",
              "      <td>0.612261</td>\n",
              "      <td>0.375479</td>\n",
              "    </tr>\n",
              "    <tr>\n",
              "      <th>Std</th>\n",
              "      <td>7.84224</td>\n",
              "      <td>0.441843</td>\n",
              "      <td>0.970718</td>\n",
              "      <td>17.7099</td>\n",
              "      <td>65.668</td>\n",
              "      <td>0.260302</td>\n",
              "      <td>0.470935</td>\n",
              "      <td>23.7574</td>\n",
              "      <td>0.466597</td>\n",
              "      <td>0.931914</td>\n",
              "      <td>0.485177</td>\n",
              "    </tr>\n",
              "    <tr>\n",
              "      <th>Skew</th>\n",
              "      <td>-0.295159</td>\n",
              "      <td>-1.07482</td>\n",
              "      <td>-0.261933</td>\n",
              "      <td>0.747295</td>\n",
              "      <td>1.44701</td>\n",
              "      <td>3.30771</td>\n",
              "      <td>1.96236</td>\n",
              "      <td>-0.126144</td>\n",
              "      <td>0.786107</td>\n",
              "      <td>1.51145</td>\n",
              "      <td>0.517266</td>\n",
              "    </tr>\n",
              "    <tr>\n",
              "      <th>Kurt</th>\n",
              "      <td>-0.569402</td>\n",
              "      <td>-0.851337</td>\n",
              "      <td>-1.41286</td>\n",
              "      <td>0.817625</td>\n",
              "      <td>5.11194</td>\n",
              "      <td>9.00994</td>\n",
              "      <td>3.11258</td>\n",
              "      <td>-0.611899</td>\n",
              "      <td>-1.39277</td>\n",
              "      <td>2.02789</td>\n",
              "      <td>-1.74587</td>\n",
              "    </tr>\n",
              "    <tr>\n",
              "      <th>25%</th>\n",
              "      <td>42</td>\n",
              "      <td>0</td>\n",
              "      <td>2</td>\n",
              "      <td>120</td>\n",
              "      <td>208</td>\n",
              "      <td>0</td>\n",
              "      <td>0</td>\n",
              "      <td>122</td>\n",
              "      <td>0</td>\n",
              "      <td>0</td>\n",
              "      <td>0</td>\n",
              "    </tr>\n",
              "    <tr>\n",
              "      <th>75%</th>\n",
              "      <td>54</td>\n",
              "      <td>1</td>\n",
              "      <td>4</td>\n",
              "      <td>140</td>\n",
              "      <td>280</td>\n",
              "      <td>0</td>\n",
              "      <td>0</td>\n",
              "      <td>155</td>\n",
              "      <td>1</td>\n",
              "      <td>1</td>\n",
              "      <td>1</td>\n",
              "    </tr>\n",
              "    <tr>\n",
              "      <th>Max</th>\n",
              "      <td>65</td>\n",
              "      <td>1</td>\n",
              "      <td>4</td>\n",
              "      <td>200</td>\n",
              "      <td>603</td>\n",
              "      <td>1</td>\n",
              "      <td>2</td>\n",
              "      <td>190</td>\n",
              "      <td>1</td>\n",
              "      <td>5</td>\n",
              "      <td>1</td>\n",
              "    </tr>\n",
              "  </tbody>\n",
              "</table>\n",
              "</div>"
            ],
            "text/plain": [
              "             age       sex        cp  ...     exang   oldpeak       num\n",
              "Count        261       261       261  ...       261       261       261\n",
              "Unique        37         2         4  ...         2        10         2\n",
              "Type       int64     int64     int64  ...     int64   float64     int64\n",
              "Min           28         0         1  ...         0         0         0\n",
              "Median        49         1         3  ...         0         0         0\n",
              "Mode          54         1         4  ...         0         0         0\n",
              "Mean     47.7701  0.735632   3.00383  ...  0.318008  0.612261  0.375479\n",
              "Std      7.84224  0.441843  0.970718  ...  0.466597  0.931914  0.485177\n",
              "Skew   -0.295159  -1.07482 -0.261933  ...  0.786107   1.51145  0.517266\n",
              "Kurt   -0.569402 -0.851337  -1.41286  ...  -1.39277   2.02789  -1.74587\n",
              "25%           42         0         2  ...         0         0         0\n",
              "75%           54         1         4  ...         1         1         1\n",
              "Max           65         1         4  ...         1         5         1\n",
              "\n",
              "[13 rows x 11 columns]"
            ]
          },
          "metadata": {
            "tags": []
          },
          "execution_count": 5
        }
      ]
    },
    {
      "cell_type": "code",
      "metadata": {
        "colab": {
          "base_uri": "https://localhost:8080/",
          "height": 377
        },
        "id": "jI-oJqfCoqhn",
        "outputId": "abed4a23-2607-49e3-97ee-d240b34495cd"
      },
      "source": [
        "ha_df = pd.DataFrame(columns=['Count', 'Unique', 'Type', 'Min', 'Median', 'Mode', 'Mean', 'Std', 'Skew', 'Kurt'], index=[df.columns])\n",
        "ha_df['Type'] = list(df.dtypes)\n",
        "ha_df['Count'] = list(df.count())\n",
        "ha_df['Unique'] = list(df.nunique())\n",
        "ha_df['Mode'] = list(df.mode().values[0])\n",
        "ha_df['Min'] = list(df.min())\n",
        "ha_df['25%'] = list(df.quantile(.25))\n",
        "ha_df['Median'] = list(df.median())\n",
        "ha_df['75%'] = list(df.quantile(.75))\n",
        "ha_df['Max'] = list(df.max())\n",
        "ha_df['Mean'] = list(df.mean())\n",
        "ha_df['Std'] = list(df.std())\n",
        "ha_df['Skew'] = list(df.skew())\n",
        "ha_df['Kurt'] = list(df.kurt())\n",
        "ha_df"
      ],
      "execution_count": null,
      "outputs": [
        {
          "output_type": "execute_result",
          "data": {
            "text/html": [
              "<div>\n",
              "<style scoped>\n",
              "    .dataframe tbody tr th:only-of-type {\n",
              "        vertical-align: middle;\n",
              "    }\n",
              "\n",
              "    .dataframe tbody tr th {\n",
              "        vertical-align: top;\n",
              "    }\n",
              "\n",
              "    .dataframe thead th {\n",
              "        text-align: right;\n",
              "    }\n",
              "</style>\n",
              "<table border=\"1\" class=\"dataframe\">\n",
              "  <thead>\n",
              "    <tr style=\"text-align: right;\">\n",
              "      <th></th>\n",
              "      <th>Count</th>\n",
              "      <th>Unique</th>\n",
              "      <th>Type</th>\n",
              "      <th>Min</th>\n",
              "      <th>Median</th>\n",
              "      <th>Mode</th>\n",
              "      <th>Mean</th>\n",
              "      <th>Std</th>\n",
              "      <th>Skew</th>\n",
              "      <th>Kurt</th>\n",
              "      <th>25%</th>\n",
              "      <th>75%</th>\n",
              "      <th>Max</th>\n",
              "    </tr>\n",
              "  </thead>\n",
              "  <tbody>\n",
              "    <tr>\n",
              "      <th>age</th>\n",
              "      <td>261</td>\n",
              "      <td>37</td>\n",
              "      <td>int64</td>\n",
              "      <td>28.0</td>\n",
              "      <td>49.0</td>\n",
              "      <td>54.0</td>\n",
              "      <td>47.770115</td>\n",
              "      <td>7.842244</td>\n",
              "      <td>-0.295159</td>\n",
              "      <td>-0.569402</td>\n",
              "      <td>42.0</td>\n",
              "      <td>54.0</td>\n",
              "      <td>65.0</td>\n",
              "    </tr>\n",
              "    <tr>\n",
              "      <th>sex</th>\n",
              "      <td>261</td>\n",
              "      <td>2</td>\n",
              "      <td>int64</td>\n",
              "      <td>0.0</td>\n",
              "      <td>1.0</td>\n",
              "      <td>1.0</td>\n",
              "      <td>0.735632</td>\n",
              "      <td>0.441843</td>\n",
              "      <td>-1.074823</td>\n",
              "      <td>-0.851337</td>\n",
              "      <td>0.0</td>\n",
              "      <td>1.0</td>\n",
              "      <td>1.0</td>\n",
              "    </tr>\n",
              "    <tr>\n",
              "      <th>cp</th>\n",
              "      <td>261</td>\n",
              "      <td>4</td>\n",
              "      <td>int64</td>\n",
              "      <td>1.0</td>\n",
              "      <td>3.0</td>\n",
              "      <td>4.0</td>\n",
              "      <td>3.003831</td>\n",
              "      <td>0.970718</td>\n",
              "      <td>-0.261933</td>\n",
              "      <td>-1.412857</td>\n",
              "      <td>2.0</td>\n",
              "      <td>4.0</td>\n",
              "      <td>4.0</td>\n",
              "    </tr>\n",
              "    <tr>\n",
              "      <th>trestbps</th>\n",
              "      <td>261</td>\n",
              "      <td>30</td>\n",
              "      <td>int64</td>\n",
              "      <td>92.0</td>\n",
              "      <td>130.0</td>\n",
              "      <td>120.0</td>\n",
              "      <td>132.639847</td>\n",
              "      <td>17.709857</td>\n",
              "      <td>0.747295</td>\n",
              "      <td>0.817625</td>\n",
              "      <td>120.0</td>\n",
              "      <td>140.0</td>\n",
              "      <td>200.0</td>\n",
              "    </tr>\n",
              "    <tr>\n",
              "      <th>chol</th>\n",
              "      <td>261</td>\n",
              "      <td>150</td>\n",
              "      <td>int64</td>\n",
              "      <td>85.0</td>\n",
              "      <td>242.0</td>\n",
              "      <td>230.0</td>\n",
              "      <td>248.823755</td>\n",
              "      <td>65.667985</td>\n",
              "      <td>1.447011</td>\n",
              "      <td>5.111942</td>\n",
              "      <td>208.0</td>\n",
              "      <td>280.0</td>\n",
              "      <td>603.0</td>\n",
              "    </tr>\n",
              "    <tr>\n",
              "      <th>fbs</th>\n",
              "      <td>261</td>\n",
              "      <td>2</td>\n",
              "      <td>int64</td>\n",
              "      <td>0.0</td>\n",
              "      <td>0.0</td>\n",
              "      <td>0.0</td>\n",
              "      <td>0.072797</td>\n",
              "      <td>0.260302</td>\n",
              "      <td>3.307711</td>\n",
              "      <td>9.009936</td>\n",
              "      <td>0.0</td>\n",
              "      <td>0.0</td>\n",
              "      <td>1.0</td>\n",
              "    </tr>\n",
              "    <tr>\n",
              "      <th>restecg</th>\n",
              "      <td>261</td>\n",
              "      <td>3</td>\n",
              "      <td>int64</td>\n",
              "      <td>0.0</td>\n",
              "      <td>0.0</td>\n",
              "      <td>0.0</td>\n",
              "      <td>0.226054</td>\n",
              "      <td>0.470935</td>\n",
              "      <td>1.962358</td>\n",
              "      <td>3.112579</td>\n",
              "      <td>0.0</td>\n",
              "      <td>0.0</td>\n",
              "      <td>2.0</td>\n",
              "    </tr>\n",
              "    <tr>\n",
              "      <th>thalach</th>\n",
              "      <td>261</td>\n",
              "      <td>67</td>\n",
              "      <td>int64</td>\n",
              "      <td>82.0</td>\n",
              "      <td>140.0</td>\n",
              "      <td>150.0</td>\n",
              "      <td>139.226054</td>\n",
              "      <td>23.757401</td>\n",
              "      <td>-0.126144</td>\n",
              "      <td>-0.611899</td>\n",
              "      <td>122.0</td>\n",
              "      <td>155.0</td>\n",
              "      <td>190.0</td>\n",
              "    </tr>\n",
              "    <tr>\n",
              "      <th>exang</th>\n",
              "      <td>261</td>\n",
              "      <td>2</td>\n",
              "      <td>int64</td>\n",
              "      <td>0.0</td>\n",
              "      <td>0.0</td>\n",
              "      <td>0.0</td>\n",
              "      <td>0.318008</td>\n",
              "      <td>0.466597</td>\n",
              "      <td>0.786107</td>\n",
              "      <td>-1.392767</td>\n",
              "      <td>0.0</td>\n",
              "      <td>1.0</td>\n",
              "      <td>1.0</td>\n",
              "    </tr>\n",
              "    <tr>\n",
              "      <th>oldpeak</th>\n",
              "      <td>261</td>\n",
              "      <td>10</td>\n",
              "      <td>float64</td>\n",
              "      <td>0.0</td>\n",
              "      <td>0.0</td>\n",
              "      <td>0.0</td>\n",
              "      <td>0.612261</td>\n",
              "      <td>0.931914</td>\n",
              "      <td>1.511448</td>\n",
              "      <td>2.027892</td>\n",
              "      <td>0.0</td>\n",
              "      <td>1.0</td>\n",
              "      <td>5.0</td>\n",
              "    </tr>\n",
              "    <tr>\n",
              "      <th>num</th>\n",
              "      <td>261</td>\n",
              "      <td>2</td>\n",
              "      <td>int64</td>\n",
              "      <td>0.0</td>\n",
              "      <td>0.0</td>\n",
              "      <td>0.0</td>\n",
              "      <td>0.375479</td>\n",
              "      <td>0.485177</td>\n",
              "      <td>0.517266</td>\n",
              "      <td>-1.745874</td>\n",
              "      <td>0.0</td>\n",
              "      <td>1.0</td>\n",
              "      <td>1.0</td>\n",
              "    </tr>\n",
              "  </tbody>\n",
              "</table>\n",
              "</div>"
            ],
            "text/plain": [
              "          Count  Unique     Type   Min  ...      Kurt    25%    75%    Max\n",
              "age         261      37    int64  28.0  ... -0.569402   42.0   54.0   65.0\n",
              "sex         261       2    int64   0.0  ... -0.851337    0.0    1.0    1.0\n",
              "cp          261       4    int64   1.0  ... -1.412857    2.0    4.0    4.0\n",
              "trestbps    261      30    int64  92.0  ...  0.817625  120.0  140.0  200.0\n",
              "chol        261     150    int64  85.0  ...  5.111942  208.0  280.0  603.0\n",
              "fbs         261       2    int64   0.0  ...  9.009936    0.0    0.0    1.0\n",
              "restecg     261       3    int64   0.0  ...  3.112579    0.0    0.0    2.0\n",
              "thalach     261      67    int64  82.0  ... -0.611899  122.0  155.0  190.0\n",
              "exang       261       2    int64   0.0  ... -1.392767    0.0    1.0    1.0\n",
              "oldpeak     261      10  float64   0.0  ...  2.027892    0.0    1.0    5.0\n",
              "num         261       2    int64   0.0  ... -1.745874    0.0    1.0    1.0\n",
              "\n",
              "[11 rows x 13 columns]"
            ]
          },
          "metadata": {
            "tags": []
          },
          "execution_count": 6
        }
      ]
    },
    {
      "cell_type": "code",
      "metadata": {
        "colab": {
          "base_uri": "https://localhost:8080/",
          "height": 377
        },
        "id": "9Nu8tR6-rMsJ",
        "outputId": "adbd4610-84d8-4191-8c79-0f40f5c9107f"
      },
      "source": [
        "ha_df.sort_values(by=['Mean'])"
      ],
      "execution_count": null,
      "outputs": [
        {
          "output_type": "execute_result",
          "data": {
            "text/html": [
              "<div>\n",
              "<style scoped>\n",
              "    .dataframe tbody tr th:only-of-type {\n",
              "        vertical-align: middle;\n",
              "    }\n",
              "\n",
              "    .dataframe tbody tr th {\n",
              "        vertical-align: top;\n",
              "    }\n",
              "\n",
              "    .dataframe thead th {\n",
              "        text-align: right;\n",
              "    }\n",
              "</style>\n",
              "<table border=\"1\" class=\"dataframe\">\n",
              "  <thead>\n",
              "    <tr style=\"text-align: right;\">\n",
              "      <th></th>\n",
              "      <th>Count</th>\n",
              "      <th>Unique</th>\n",
              "      <th>Type</th>\n",
              "      <th>Min</th>\n",
              "      <th>Median</th>\n",
              "      <th>Mode</th>\n",
              "      <th>Mean</th>\n",
              "      <th>Std</th>\n",
              "      <th>Skew</th>\n",
              "      <th>Kurt</th>\n",
              "      <th>25%</th>\n",
              "      <th>75%</th>\n",
              "      <th>Max</th>\n",
              "    </tr>\n",
              "  </thead>\n",
              "  <tbody>\n",
              "    <tr>\n",
              "      <th>fbs</th>\n",
              "      <td>261</td>\n",
              "      <td>2</td>\n",
              "      <td>int64</td>\n",
              "      <td>0.0</td>\n",
              "      <td>0.0</td>\n",
              "      <td>0.0</td>\n",
              "      <td>0.072797</td>\n",
              "      <td>0.260302</td>\n",
              "      <td>3.307711</td>\n",
              "      <td>9.009936</td>\n",
              "      <td>0.0</td>\n",
              "      <td>0.0</td>\n",
              "      <td>1.0</td>\n",
              "    </tr>\n",
              "    <tr>\n",
              "      <th>restecg</th>\n",
              "      <td>261</td>\n",
              "      <td>3</td>\n",
              "      <td>int64</td>\n",
              "      <td>0.0</td>\n",
              "      <td>0.0</td>\n",
              "      <td>0.0</td>\n",
              "      <td>0.226054</td>\n",
              "      <td>0.470935</td>\n",
              "      <td>1.962358</td>\n",
              "      <td>3.112579</td>\n",
              "      <td>0.0</td>\n",
              "      <td>0.0</td>\n",
              "      <td>2.0</td>\n",
              "    </tr>\n",
              "    <tr>\n",
              "      <th>exang</th>\n",
              "      <td>261</td>\n",
              "      <td>2</td>\n",
              "      <td>int64</td>\n",
              "      <td>0.0</td>\n",
              "      <td>0.0</td>\n",
              "      <td>0.0</td>\n",
              "      <td>0.318008</td>\n",
              "      <td>0.466597</td>\n",
              "      <td>0.786107</td>\n",
              "      <td>-1.392767</td>\n",
              "      <td>0.0</td>\n",
              "      <td>1.0</td>\n",
              "      <td>1.0</td>\n",
              "    </tr>\n",
              "    <tr>\n",
              "      <th>num</th>\n",
              "      <td>261</td>\n",
              "      <td>2</td>\n",
              "      <td>int64</td>\n",
              "      <td>0.0</td>\n",
              "      <td>0.0</td>\n",
              "      <td>0.0</td>\n",
              "      <td>0.375479</td>\n",
              "      <td>0.485177</td>\n",
              "      <td>0.517266</td>\n",
              "      <td>-1.745874</td>\n",
              "      <td>0.0</td>\n",
              "      <td>1.0</td>\n",
              "      <td>1.0</td>\n",
              "    </tr>\n",
              "    <tr>\n",
              "      <th>oldpeak</th>\n",
              "      <td>261</td>\n",
              "      <td>10</td>\n",
              "      <td>float64</td>\n",
              "      <td>0.0</td>\n",
              "      <td>0.0</td>\n",
              "      <td>0.0</td>\n",
              "      <td>0.612261</td>\n",
              "      <td>0.931914</td>\n",
              "      <td>1.511448</td>\n",
              "      <td>2.027892</td>\n",
              "      <td>0.0</td>\n",
              "      <td>1.0</td>\n",
              "      <td>5.0</td>\n",
              "    </tr>\n",
              "    <tr>\n",
              "      <th>sex</th>\n",
              "      <td>261</td>\n",
              "      <td>2</td>\n",
              "      <td>int64</td>\n",
              "      <td>0.0</td>\n",
              "      <td>1.0</td>\n",
              "      <td>1.0</td>\n",
              "      <td>0.735632</td>\n",
              "      <td>0.441843</td>\n",
              "      <td>-1.074823</td>\n",
              "      <td>-0.851337</td>\n",
              "      <td>0.0</td>\n",
              "      <td>1.0</td>\n",
              "      <td>1.0</td>\n",
              "    </tr>\n",
              "    <tr>\n",
              "      <th>cp</th>\n",
              "      <td>261</td>\n",
              "      <td>4</td>\n",
              "      <td>int64</td>\n",
              "      <td>1.0</td>\n",
              "      <td>3.0</td>\n",
              "      <td>4.0</td>\n",
              "      <td>3.003831</td>\n",
              "      <td>0.970718</td>\n",
              "      <td>-0.261933</td>\n",
              "      <td>-1.412857</td>\n",
              "      <td>2.0</td>\n",
              "      <td>4.0</td>\n",
              "      <td>4.0</td>\n",
              "    </tr>\n",
              "    <tr>\n",
              "      <th>age</th>\n",
              "      <td>261</td>\n",
              "      <td>37</td>\n",
              "      <td>int64</td>\n",
              "      <td>28.0</td>\n",
              "      <td>49.0</td>\n",
              "      <td>54.0</td>\n",
              "      <td>47.770115</td>\n",
              "      <td>7.842244</td>\n",
              "      <td>-0.295159</td>\n",
              "      <td>-0.569402</td>\n",
              "      <td>42.0</td>\n",
              "      <td>54.0</td>\n",
              "      <td>65.0</td>\n",
              "    </tr>\n",
              "    <tr>\n",
              "      <th>trestbps</th>\n",
              "      <td>261</td>\n",
              "      <td>30</td>\n",
              "      <td>int64</td>\n",
              "      <td>92.0</td>\n",
              "      <td>130.0</td>\n",
              "      <td>120.0</td>\n",
              "      <td>132.639847</td>\n",
              "      <td>17.709857</td>\n",
              "      <td>0.747295</td>\n",
              "      <td>0.817625</td>\n",
              "      <td>120.0</td>\n",
              "      <td>140.0</td>\n",
              "      <td>200.0</td>\n",
              "    </tr>\n",
              "    <tr>\n",
              "      <th>thalach</th>\n",
              "      <td>261</td>\n",
              "      <td>67</td>\n",
              "      <td>int64</td>\n",
              "      <td>82.0</td>\n",
              "      <td>140.0</td>\n",
              "      <td>150.0</td>\n",
              "      <td>139.226054</td>\n",
              "      <td>23.757401</td>\n",
              "      <td>-0.126144</td>\n",
              "      <td>-0.611899</td>\n",
              "      <td>122.0</td>\n",
              "      <td>155.0</td>\n",
              "      <td>190.0</td>\n",
              "    </tr>\n",
              "    <tr>\n",
              "      <th>chol</th>\n",
              "      <td>261</td>\n",
              "      <td>150</td>\n",
              "      <td>int64</td>\n",
              "      <td>85.0</td>\n",
              "      <td>242.0</td>\n",
              "      <td>230.0</td>\n",
              "      <td>248.823755</td>\n",
              "      <td>65.667985</td>\n",
              "      <td>1.447011</td>\n",
              "      <td>5.111942</td>\n",
              "      <td>208.0</td>\n",
              "      <td>280.0</td>\n",
              "      <td>603.0</td>\n",
              "    </tr>\n",
              "  </tbody>\n",
              "</table>\n",
              "</div>"
            ],
            "text/plain": [
              "          Count  Unique     Type   Min  ...      Kurt    25%    75%    Max\n",
              "fbs         261       2    int64   0.0  ...  9.009936    0.0    0.0    1.0\n",
              "restecg     261       3    int64   0.0  ...  3.112579    0.0    0.0    2.0\n",
              "exang       261       2    int64   0.0  ... -1.392767    0.0    1.0    1.0\n",
              "num         261       2    int64   0.0  ... -1.745874    0.0    1.0    1.0\n",
              "oldpeak     261      10  float64   0.0  ...  2.027892    0.0    1.0    5.0\n",
              "sex         261       2    int64   0.0  ... -0.851337    0.0    1.0    1.0\n",
              "cp          261       4    int64   1.0  ... -1.412857    2.0    4.0    4.0\n",
              "age         261      37    int64  28.0  ... -0.569402   42.0   54.0   65.0\n",
              "trestbps    261      30    int64  92.0  ...  0.817625  120.0  140.0  200.0\n",
              "thalach     261      67    int64  82.0  ... -0.611899  122.0  155.0  190.0\n",
              "chol        261     150    int64  85.0  ...  5.111942  208.0  280.0  603.0\n",
              "\n",
              "[11 rows x 13 columns]"
            ]
          },
          "metadata": {
            "tags": []
          },
          "execution_count": 7
        }
      ]
    },
    {
      "cell_type": "code",
      "metadata": {
        "colab": {
          "base_uri": "https://localhost:8080/",
          "height": 377
        },
        "id": "U_QVkzRlrRIf",
        "outputId": "6a8d027c-2a2e-40a9-c001-f5fff4e902a8"
      },
      "source": [
        "ha_df.sort_values(by=['Skew'], ascending=False)"
      ],
      "execution_count": null,
      "outputs": [
        {
          "output_type": "execute_result",
          "data": {
            "text/html": [
              "<div>\n",
              "<style scoped>\n",
              "    .dataframe tbody tr th:only-of-type {\n",
              "        vertical-align: middle;\n",
              "    }\n",
              "\n",
              "    .dataframe tbody tr th {\n",
              "        vertical-align: top;\n",
              "    }\n",
              "\n",
              "    .dataframe thead th {\n",
              "        text-align: right;\n",
              "    }\n",
              "</style>\n",
              "<table border=\"1\" class=\"dataframe\">\n",
              "  <thead>\n",
              "    <tr style=\"text-align: right;\">\n",
              "      <th></th>\n",
              "      <th>Count</th>\n",
              "      <th>Unique</th>\n",
              "      <th>Type</th>\n",
              "      <th>Min</th>\n",
              "      <th>Median</th>\n",
              "      <th>Mode</th>\n",
              "      <th>Mean</th>\n",
              "      <th>Std</th>\n",
              "      <th>Skew</th>\n",
              "      <th>Kurt</th>\n",
              "      <th>25%</th>\n",
              "      <th>75%</th>\n",
              "      <th>Max</th>\n",
              "    </tr>\n",
              "  </thead>\n",
              "  <tbody>\n",
              "    <tr>\n",
              "      <th>fbs</th>\n",
              "      <td>261</td>\n",
              "      <td>2</td>\n",
              "      <td>int64</td>\n",
              "      <td>0.0</td>\n",
              "      <td>0.0</td>\n",
              "      <td>0.0</td>\n",
              "      <td>0.072797</td>\n",
              "      <td>0.260302</td>\n",
              "      <td>3.307711</td>\n",
              "      <td>9.009936</td>\n",
              "      <td>0.0</td>\n",
              "      <td>0.0</td>\n",
              "      <td>1.0</td>\n",
              "    </tr>\n",
              "    <tr>\n",
              "      <th>restecg</th>\n",
              "      <td>261</td>\n",
              "      <td>3</td>\n",
              "      <td>int64</td>\n",
              "      <td>0.0</td>\n",
              "      <td>0.0</td>\n",
              "      <td>0.0</td>\n",
              "      <td>0.226054</td>\n",
              "      <td>0.470935</td>\n",
              "      <td>1.962358</td>\n",
              "      <td>3.112579</td>\n",
              "      <td>0.0</td>\n",
              "      <td>0.0</td>\n",
              "      <td>2.0</td>\n",
              "    </tr>\n",
              "    <tr>\n",
              "      <th>oldpeak</th>\n",
              "      <td>261</td>\n",
              "      <td>10</td>\n",
              "      <td>float64</td>\n",
              "      <td>0.0</td>\n",
              "      <td>0.0</td>\n",
              "      <td>0.0</td>\n",
              "      <td>0.612261</td>\n",
              "      <td>0.931914</td>\n",
              "      <td>1.511448</td>\n",
              "      <td>2.027892</td>\n",
              "      <td>0.0</td>\n",
              "      <td>1.0</td>\n",
              "      <td>5.0</td>\n",
              "    </tr>\n",
              "    <tr>\n",
              "      <th>chol</th>\n",
              "      <td>261</td>\n",
              "      <td>150</td>\n",
              "      <td>int64</td>\n",
              "      <td>85.0</td>\n",
              "      <td>242.0</td>\n",
              "      <td>230.0</td>\n",
              "      <td>248.823755</td>\n",
              "      <td>65.667985</td>\n",
              "      <td>1.447011</td>\n",
              "      <td>5.111942</td>\n",
              "      <td>208.0</td>\n",
              "      <td>280.0</td>\n",
              "      <td>603.0</td>\n",
              "    </tr>\n",
              "    <tr>\n",
              "      <th>exang</th>\n",
              "      <td>261</td>\n",
              "      <td>2</td>\n",
              "      <td>int64</td>\n",
              "      <td>0.0</td>\n",
              "      <td>0.0</td>\n",
              "      <td>0.0</td>\n",
              "      <td>0.318008</td>\n",
              "      <td>0.466597</td>\n",
              "      <td>0.786107</td>\n",
              "      <td>-1.392767</td>\n",
              "      <td>0.0</td>\n",
              "      <td>1.0</td>\n",
              "      <td>1.0</td>\n",
              "    </tr>\n",
              "    <tr>\n",
              "      <th>trestbps</th>\n",
              "      <td>261</td>\n",
              "      <td>30</td>\n",
              "      <td>int64</td>\n",
              "      <td>92.0</td>\n",
              "      <td>130.0</td>\n",
              "      <td>120.0</td>\n",
              "      <td>132.639847</td>\n",
              "      <td>17.709857</td>\n",
              "      <td>0.747295</td>\n",
              "      <td>0.817625</td>\n",
              "      <td>120.0</td>\n",
              "      <td>140.0</td>\n",
              "      <td>200.0</td>\n",
              "    </tr>\n",
              "    <tr>\n",
              "      <th>num</th>\n",
              "      <td>261</td>\n",
              "      <td>2</td>\n",
              "      <td>int64</td>\n",
              "      <td>0.0</td>\n",
              "      <td>0.0</td>\n",
              "      <td>0.0</td>\n",
              "      <td>0.375479</td>\n",
              "      <td>0.485177</td>\n",
              "      <td>0.517266</td>\n",
              "      <td>-1.745874</td>\n",
              "      <td>0.0</td>\n",
              "      <td>1.0</td>\n",
              "      <td>1.0</td>\n",
              "    </tr>\n",
              "    <tr>\n",
              "      <th>thalach</th>\n",
              "      <td>261</td>\n",
              "      <td>67</td>\n",
              "      <td>int64</td>\n",
              "      <td>82.0</td>\n",
              "      <td>140.0</td>\n",
              "      <td>150.0</td>\n",
              "      <td>139.226054</td>\n",
              "      <td>23.757401</td>\n",
              "      <td>-0.126144</td>\n",
              "      <td>-0.611899</td>\n",
              "      <td>122.0</td>\n",
              "      <td>155.0</td>\n",
              "      <td>190.0</td>\n",
              "    </tr>\n",
              "    <tr>\n",
              "      <th>cp</th>\n",
              "      <td>261</td>\n",
              "      <td>4</td>\n",
              "      <td>int64</td>\n",
              "      <td>1.0</td>\n",
              "      <td>3.0</td>\n",
              "      <td>4.0</td>\n",
              "      <td>3.003831</td>\n",
              "      <td>0.970718</td>\n",
              "      <td>-0.261933</td>\n",
              "      <td>-1.412857</td>\n",
              "      <td>2.0</td>\n",
              "      <td>4.0</td>\n",
              "      <td>4.0</td>\n",
              "    </tr>\n",
              "    <tr>\n",
              "      <th>age</th>\n",
              "      <td>261</td>\n",
              "      <td>37</td>\n",
              "      <td>int64</td>\n",
              "      <td>28.0</td>\n",
              "      <td>49.0</td>\n",
              "      <td>54.0</td>\n",
              "      <td>47.770115</td>\n",
              "      <td>7.842244</td>\n",
              "      <td>-0.295159</td>\n",
              "      <td>-0.569402</td>\n",
              "      <td>42.0</td>\n",
              "      <td>54.0</td>\n",
              "      <td>65.0</td>\n",
              "    </tr>\n",
              "    <tr>\n",
              "      <th>sex</th>\n",
              "      <td>261</td>\n",
              "      <td>2</td>\n",
              "      <td>int64</td>\n",
              "      <td>0.0</td>\n",
              "      <td>1.0</td>\n",
              "      <td>1.0</td>\n",
              "      <td>0.735632</td>\n",
              "      <td>0.441843</td>\n",
              "      <td>-1.074823</td>\n",
              "      <td>-0.851337</td>\n",
              "      <td>0.0</td>\n",
              "      <td>1.0</td>\n",
              "      <td>1.0</td>\n",
              "    </tr>\n",
              "  </tbody>\n",
              "</table>\n",
              "</div>"
            ],
            "text/plain": [
              "          Count  Unique     Type   Min  ...      Kurt    25%    75%    Max\n",
              "fbs         261       2    int64   0.0  ...  9.009936    0.0    0.0    1.0\n",
              "restecg     261       3    int64   0.0  ...  3.112579    0.0    0.0    2.0\n",
              "oldpeak     261      10  float64   0.0  ...  2.027892    0.0    1.0    5.0\n",
              "chol        261     150    int64  85.0  ...  5.111942  208.0  280.0  603.0\n",
              "exang       261       2    int64   0.0  ... -1.392767    0.0    1.0    1.0\n",
              "trestbps    261      30    int64  92.0  ...  0.817625  120.0  140.0  200.0\n",
              "num         261       2    int64   0.0  ... -1.745874    0.0    1.0    1.0\n",
              "thalach     261      67    int64  82.0  ... -0.611899  122.0  155.0  190.0\n",
              "cp          261       4    int64   1.0  ... -1.412857    2.0    4.0    4.0\n",
              "age         261      37    int64  28.0  ... -0.569402   42.0   54.0   65.0\n",
              "sex         261       2    int64   0.0  ... -0.851337    0.0    1.0    1.0\n",
              "\n",
              "[11 rows x 13 columns]"
            ]
          },
          "metadata": {
            "tags": []
          },
          "execution_count": 8
        }
      ]
    },
    {
      "cell_type": "code",
      "metadata": {
        "colab": {
          "base_uri": "https://localhost:8080/",
          "height": 377
        },
        "id": "uoOCBo8qsdRv",
        "outputId": "6197215a-473b-4feb-8391-732cb39f35d9"
      },
      "source": [
        "def sort_ha_df(column_list):\n",
        "  return ha_df.sort_values(by=column_list)\n",
        "\n",
        "sort_ha_df(['Type', 'Unique'])"
      ],
      "execution_count": null,
      "outputs": [
        {
          "output_type": "execute_result",
          "data": {
            "text/html": [
              "<div>\n",
              "<style scoped>\n",
              "    .dataframe tbody tr th:only-of-type {\n",
              "        vertical-align: middle;\n",
              "    }\n",
              "\n",
              "    .dataframe tbody tr th {\n",
              "        vertical-align: top;\n",
              "    }\n",
              "\n",
              "    .dataframe thead th {\n",
              "        text-align: right;\n",
              "    }\n",
              "</style>\n",
              "<table border=\"1\" class=\"dataframe\">\n",
              "  <thead>\n",
              "    <tr style=\"text-align: right;\">\n",
              "      <th></th>\n",
              "      <th>Count</th>\n",
              "      <th>Unique</th>\n",
              "      <th>Type</th>\n",
              "      <th>Min</th>\n",
              "      <th>Median</th>\n",
              "      <th>Mode</th>\n",
              "      <th>Mean</th>\n",
              "      <th>Std</th>\n",
              "      <th>Skew</th>\n",
              "      <th>Kurt</th>\n",
              "      <th>25%</th>\n",
              "      <th>75%</th>\n",
              "      <th>Max</th>\n",
              "    </tr>\n",
              "  </thead>\n",
              "  <tbody>\n",
              "    <tr>\n",
              "      <th>sex</th>\n",
              "      <td>261</td>\n",
              "      <td>2</td>\n",
              "      <td>int64</td>\n",
              "      <td>0.0</td>\n",
              "      <td>1.0</td>\n",
              "      <td>1.0</td>\n",
              "      <td>0.735632</td>\n",
              "      <td>0.441843</td>\n",
              "      <td>-1.074823</td>\n",
              "      <td>-0.851337</td>\n",
              "      <td>0.0</td>\n",
              "      <td>1.0</td>\n",
              "      <td>1.0</td>\n",
              "    </tr>\n",
              "    <tr>\n",
              "      <th>fbs</th>\n",
              "      <td>261</td>\n",
              "      <td>2</td>\n",
              "      <td>int64</td>\n",
              "      <td>0.0</td>\n",
              "      <td>0.0</td>\n",
              "      <td>0.0</td>\n",
              "      <td>0.072797</td>\n",
              "      <td>0.260302</td>\n",
              "      <td>3.307711</td>\n",
              "      <td>9.009936</td>\n",
              "      <td>0.0</td>\n",
              "      <td>0.0</td>\n",
              "      <td>1.0</td>\n",
              "    </tr>\n",
              "    <tr>\n",
              "      <th>exang</th>\n",
              "      <td>261</td>\n",
              "      <td>2</td>\n",
              "      <td>int64</td>\n",
              "      <td>0.0</td>\n",
              "      <td>0.0</td>\n",
              "      <td>0.0</td>\n",
              "      <td>0.318008</td>\n",
              "      <td>0.466597</td>\n",
              "      <td>0.786107</td>\n",
              "      <td>-1.392767</td>\n",
              "      <td>0.0</td>\n",
              "      <td>1.0</td>\n",
              "      <td>1.0</td>\n",
              "    </tr>\n",
              "    <tr>\n",
              "      <th>num</th>\n",
              "      <td>261</td>\n",
              "      <td>2</td>\n",
              "      <td>int64</td>\n",
              "      <td>0.0</td>\n",
              "      <td>0.0</td>\n",
              "      <td>0.0</td>\n",
              "      <td>0.375479</td>\n",
              "      <td>0.485177</td>\n",
              "      <td>0.517266</td>\n",
              "      <td>-1.745874</td>\n",
              "      <td>0.0</td>\n",
              "      <td>1.0</td>\n",
              "      <td>1.0</td>\n",
              "    </tr>\n",
              "    <tr>\n",
              "      <th>restecg</th>\n",
              "      <td>261</td>\n",
              "      <td>3</td>\n",
              "      <td>int64</td>\n",
              "      <td>0.0</td>\n",
              "      <td>0.0</td>\n",
              "      <td>0.0</td>\n",
              "      <td>0.226054</td>\n",
              "      <td>0.470935</td>\n",
              "      <td>1.962358</td>\n",
              "      <td>3.112579</td>\n",
              "      <td>0.0</td>\n",
              "      <td>0.0</td>\n",
              "      <td>2.0</td>\n",
              "    </tr>\n",
              "    <tr>\n",
              "      <th>cp</th>\n",
              "      <td>261</td>\n",
              "      <td>4</td>\n",
              "      <td>int64</td>\n",
              "      <td>1.0</td>\n",
              "      <td>3.0</td>\n",
              "      <td>4.0</td>\n",
              "      <td>3.003831</td>\n",
              "      <td>0.970718</td>\n",
              "      <td>-0.261933</td>\n",
              "      <td>-1.412857</td>\n",
              "      <td>2.0</td>\n",
              "      <td>4.0</td>\n",
              "      <td>4.0</td>\n",
              "    </tr>\n",
              "    <tr>\n",
              "      <th>trestbps</th>\n",
              "      <td>261</td>\n",
              "      <td>30</td>\n",
              "      <td>int64</td>\n",
              "      <td>92.0</td>\n",
              "      <td>130.0</td>\n",
              "      <td>120.0</td>\n",
              "      <td>132.639847</td>\n",
              "      <td>17.709857</td>\n",
              "      <td>0.747295</td>\n",
              "      <td>0.817625</td>\n",
              "      <td>120.0</td>\n",
              "      <td>140.0</td>\n",
              "      <td>200.0</td>\n",
              "    </tr>\n",
              "    <tr>\n",
              "      <th>age</th>\n",
              "      <td>261</td>\n",
              "      <td>37</td>\n",
              "      <td>int64</td>\n",
              "      <td>28.0</td>\n",
              "      <td>49.0</td>\n",
              "      <td>54.0</td>\n",
              "      <td>47.770115</td>\n",
              "      <td>7.842244</td>\n",
              "      <td>-0.295159</td>\n",
              "      <td>-0.569402</td>\n",
              "      <td>42.0</td>\n",
              "      <td>54.0</td>\n",
              "      <td>65.0</td>\n",
              "    </tr>\n",
              "    <tr>\n",
              "      <th>thalach</th>\n",
              "      <td>261</td>\n",
              "      <td>67</td>\n",
              "      <td>int64</td>\n",
              "      <td>82.0</td>\n",
              "      <td>140.0</td>\n",
              "      <td>150.0</td>\n",
              "      <td>139.226054</td>\n",
              "      <td>23.757401</td>\n",
              "      <td>-0.126144</td>\n",
              "      <td>-0.611899</td>\n",
              "      <td>122.0</td>\n",
              "      <td>155.0</td>\n",
              "      <td>190.0</td>\n",
              "    </tr>\n",
              "    <tr>\n",
              "      <th>chol</th>\n",
              "      <td>261</td>\n",
              "      <td>150</td>\n",
              "      <td>int64</td>\n",
              "      <td>85.0</td>\n",
              "      <td>242.0</td>\n",
              "      <td>230.0</td>\n",
              "      <td>248.823755</td>\n",
              "      <td>65.667985</td>\n",
              "      <td>1.447011</td>\n",
              "      <td>5.111942</td>\n",
              "      <td>208.0</td>\n",
              "      <td>280.0</td>\n",
              "      <td>603.0</td>\n",
              "    </tr>\n",
              "    <tr>\n",
              "      <th>oldpeak</th>\n",
              "      <td>261</td>\n",
              "      <td>10</td>\n",
              "      <td>float64</td>\n",
              "      <td>0.0</td>\n",
              "      <td>0.0</td>\n",
              "      <td>0.0</td>\n",
              "      <td>0.612261</td>\n",
              "      <td>0.931914</td>\n",
              "      <td>1.511448</td>\n",
              "      <td>2.027892</td>\n",
              "      <td>0.0</td>\n",
              "      <td>1.0</td>\n",
              "      <td>5.0</td>\n",
              "    </tr>\n",
              "  </tbody>\n",
              "</table>\n",
              "</div>"
            ],
            "text/plain": [
              "          Count  Unique     Type   Min  ...      Kurt    25%    75%    Max\n",
              "sex         261       2    int64   0.0  ... -0.851337    0.0    1.0    1.0\n",
              "fbs         261       2    int64   0.0  ...  9.009936    0.0    0.0    1.0\n",
              "exang       261       2    int64   0.0  ... -1.392767    0.0    1.0    1.0\n",
              "num         261       2    int64   0.0  ... -1.745874    0.0    1.0    1.0\n",
              "restecg     261       3    int64   0.0  ...  3.112579    0.0    0.0    2.0\n",
              "cp          261       4    int64   1.0  ... -1.412857    2.0    4.0    4.0\n",
              "trestbps    261      30    int64  92.0  ...  0.817625  120.0  140.0  200.0\n",
              "age         261      37    int64  28.0  ... -0.569402   42.0   54.0   65.0\n",
              "thalach     261      67    int64  82.0  ... -0.611899  122.0  155.0  190.0\n",
              "chol        261     150    int64  85.0  ...  5.111942  208.0  280.0  603.0\n",
              "oldpeak     261      10  float64   0.0  ...  2.027892    0.0    1.0    5.0\n",
              "\n",
              "[11 rows x 13 columns]"
            ]
          },
          "metadata": {
            "tags": []
          },
          "execution_count": 9
        }
      ]
    },
    {
      "cell_type": "code",
      "metadata": {
        "colab": {
          "base_uri": "https://localhost:8080/",
          "height": 377
        },
        "id": "909haU_Is3cm",
        "outputId": "b332e8cd-5125-487a-ac8b-b037ca44fc88"
      },
      "source": [
        "def sort_ha_df(column_list, direction):\n",
        "  if direction == 'asc':\n",
        "    return ha_df.sort_values(by=column_list, ascending=True)\n",
        "  else:\n",
        "    return ha_df.sort_values(by=column_list, ascending=False)\n",
        "\n",
        "sort_ha_df(['Type', 'Unique'], 'desc')\n"
      ],
      "execution_count": null,
      "outputs": [
        {
          "output_type": "execute_result",
          "data": {
            "text/html": [
              "<div>\n",
              "<style scoped>\n",
              "    .dataframe tbody tr th:only-of-type {\n",
              "        vertical-align: middle;\n",
              "    }\n",
              "\n",
              "    .dataframe tbody tr th {\n",
              "        vertical-align: top;\n",
              "    }\n",
              "\n",
              "    .dataframe thead th {\n",
              "        text-align: right;\n",
              "    }\n",
              "</style>\n",
              "<table border=\"1\" class=\"dataframe\">\n",
              "  <thead>\n",
              "    <tr style=\"text-align: right;\">\n",
              "      <th></th>\n",
              "      <th>Count</th>\n",
              "      <th>Unique</th>\n",
              "      <th>Type</th>\n",
              "      <th>Min</th>\n",
              "      <th>Median</th>\n",
              "      <th>Mode</th>\n",
              "      <th>Mean</th>\n",
              "      <th>Std</th>\n",
              "      <th>Skew</th>\n",
              "      <th>Kurt</th>\n",
              "      <th>25%</th>\n",
              "      <th>75%</th>\n",
              "      <th>Max</th>\n",
              "    </tr>\n",
              "  </thead>\n",
              "  <tbody>\n",
              "    <tr>\n",
              "      <th>oldpeak</th>\n",
              "      <td>261</td>\n",
              "      <td>10</td>\n",
              "      <td>float64</td>\n",
              "      <td>0.0</td>\n",
              "      <td>0.0</td>\n",
              "      <td>0.0</td>\n",
              "      <td>0.612261</td>\n",
              "      <td>0.931914</td>\n",
              "      <td>1.511448</td>\n",
              "      <td>2.027892</td>\n",
              "      <td>0.0</td>\n",
              "      <td>1.0</td>\n",
              "      <td>5.0</td>\n",
              "    </tr>\n",
              "    <tr>\n",
              "      <th>chol</th>\n",
              "      <td>261</td>\n",
              "      <td>150</td>\n",
              "      <td>int64</td>\n",
              "      <td>85.0</td>\n",
              "      <td>242.0</td>\n",
              "      <td>230.0</td>\n",
              "      <td>248.823755</td>\n",
              "      <td>65.667985</td>\n",
              "      <td>1.447011</td>\n",
              "      <td>5.111942</td>\n",
              "      <td>208.0</td>\n",
              "      <td>280.0</td>\n",
              "      <td>603.0</td>\n",
              "    </tr>\n",
              "    <tr>\n",
              "      <th>thalach</th>\n",
              "      <td>261</td>\n",
              "      <td>67</td>\n",
              "      <td>int64</td>\n",
              "      <td>82.0</td>\n",
              "      <td>140.0</td>\n",
              "      <td>150.0</td>\n",
              "      <td>139.226054</td>\n",
              "      <td>23.757401</td>\n",
              "      <td>-0.126144</td>\n",
              "      <td>-0.611899</td>\n",
              "      <td>122.0</td>\n",
              "      <td>155.0</td>\n",
              "      <td>190.0</td>\n",
              "    </tr>\n",
              "    <tr>\n",
              "      <th>age</th>\n",
              "      <td>261</td>\n",
              "      <td>37</td>\n",
              "      <td>int64</td>\n",
              "      <td>28.0</td>\n",
              "      <td>49.0</td>\n",
              "      <td>54.0</td>\n",
              "      <td>47.770115</td>\n",
              "      <td>7.842244</td>\n",
              "      <td>-0.295159</td>\n",
              "      <td>-0.569402</td>\n",
              "      <td>42.0</td>\n",
              "      <td>54.0</td>\n",
              "      <td>65.0</td>\n",
              "    </tr>\n",
              "    <tr>\n",
              "      <th>trestbps</th>\n",
              "      <td>261</td>\n",
              "      <td>30</td>\n",
              "      <td>int64</td>\n",
              "      <td>92.0</td>\n",
              "      <td>130.0</td>\n",
              "      <td>120.0</td>\n",
              "      <td>132.639847</td>\n",
              "      <td>17.709857</td>\n",
              "      <td>0.747295</td>\n",
              "      <td>0.817625</td>\n",
              "      <td>120.0</td>\n",
              "      <td>140.0</td>\n",
              "      <td>200.0</td>\n",
              "    </tr>\n",
              "    <tr>\n",
              "      <th>cp</th>\n",
              "      <td>261</td>\n",
              "      <td>4</td>\n",
              "      <td>int64</td>\n",
              "      <td>1.0</td>\n",
              "      <td>3.0</td>\n",
              "      <td>4.0</td>\n",
              "      <td>3.003831</td>\n",
              "      <td>0.970718</td>\n",
              "      <td>-0.261933</td>\n",
              "      <td>-1.412857</td>\n",
              "      <td>2.0</td>\n",
              "      <td>4.0</td>\n",
              "      <td>4.0</td>\n",
              "    </tr>\n",
              "    <tr>\n",
              "      <th>restecg</th>\n",
              "      <td>261</td>\n",
              "      <td>3</td>\n",
              "      <td>int64</td>\n",
              "      <td>0.0</td>\n",
              "      <td>0.0</td>\n",
              "      <td>0.0</td>\n",
              "      <td>0.226054</td>\n",
              "      <td>0.470935</td>\n",
              "      <td>1.962358</td>\n",
              "      <td>3.112579</td>\n",
              "      <td>0.0</td>\n",
              "      <td>0.0</td>\n",
              "      <td>2.0</td>\n",
              "    </tr>\n",
              "    <tr>\n",
              "      <th>sex</th>\n",
              "      <td>261</td>\n",
              "      <td>2</td>\n",
              "      <td>int64</td>\n",
              "      <td>0.0</td>\n",
              "      <td>1.0</td>\n",
              "      <td>1.0</td>\n",
              "      <td>0.735632</td>\n",
              "      <td>0.441843</td>\n",
              "      <td>-1.074823</td>\n",
              "      <td>-0.851337</td>\n",
              "      <td>0.0</td>\n",
              "      <td>1.0</td>\n",
              "      <td>1.0</td>\n",
              "    </tr>\n",
              "    <tr>\n",
              "      <th>fbs</th>\n",
              "      <td>261</td>\n",
              "      <td>2</td>\n",
              "      <td>int64</td>\n",
              "      <td>0.0</td>\n",
              "      <td>0.0</td>\n",
              "      <td>0.0</td>\n",
              "      <td>0.072797</td>\n",
              "      <td>0.260302</td>\n",
              "      <td>3.307711</td>\n",
              "      <td>9.009936</td>\n",
              "      <td>0.0</td>\n",
              "      <td>0.0</td>\n",
              "      <td>1.0</td>\n",
              "    </tr>\n",
              "    <tr>\n",
              "      <th>exang</th>\n",
              "      <td>261</td>\n",
              "      <td>2</td>\n",
              "      <td>int64</td>\n",
              "      <td>0.0</td>\n",
              "      <td>0.0</td>\n",
              "      <td>0.0</td>\n",
              "      <td>0.318008</td>\n",
              "      <td>0.466597</td>\n",
              "      <td>0.786107</td>\n",
              "      <td>-1.392767</td>\n",
              "      <td>0.0</td>\n",
              "      <td>1.0</td>\n",
              "      <td>1.0</td>\n",
              "    </tr>\n",
              "    <tr>\n",
              "      <th>num</th>\n",
              "      <td>261</td>\n",
              "      <td>2</td>\n",
              "      <td>int64</td>\n",
              "      <td>0.0</td>\n",
              "      <td>0.0</td>\n",
              "      <td>0.0</td>\n",
              "      <td>0.375479</td>\n",
              "      <td>0.485177</td>\n",
              "      <td>0.517266</td>\n",
              "      <td>-1.745874</td>\n",
              "      <td>0.0</td>\n",
              "      <td>1.0</td>\n",
              "      <td>1.0</td>\n",
              "    </tr>\n",
              "  </tbody>\n",
              "</table>\n",
              "</div>"
            ],
            "text/plain": [
              "          Count  Unique     Type   Min  ...      Kurt    25%    75%    Max\n",
              "oldpeak     261      10  float64   0.0  ...  2.027892    0.0    1.0    5.0\n",
              "chol        261     150    int64  85.0  ...  5.111942  208.0  280.0  603.0\n",
              "thalach     261      67    int64  82.0  ... -0.611899  122.0  155.0  190.0\n",
              "age         261      37    int64  28.0  ... -0.569402   42.0   54.0   65.0\n",
              "trestbps    261      30    int64  92.0  ...  0.817625  120.0  140.0  200.0\n",
              "cp          261       4    int64   1.0  ... -1.412857    2.0    4.0    4.0\n",
              "restecg     261       3    int64   0.0  ...  3.112579    0.0    0.0    2.0\n",
              "sex         261       2    int64   0.0  ... -0.851337    0.0    1.0    1.0\n",
              "fbs         261       2    int64   0.0  ...  9.009936    0.0    0.0    1.0\n",
              "exang       261       2    int64   0.0  ... -1.392767    0.0    1.0    1.0\n",
              "num         261       2    int64   0.0  ... -1.745874    0.0    1.0    1.0\n",
              "\n",
              "[11 rows x 13 columns]"
            ]
          },
          "metadata": {
            "tags": []
          },
          "execution_count": 10
        }
      ]
    },
    {
      "cell_type": "markdown",
      "metadata": {
        "id": "0Um-IsEbm-Vp"
      },
      "source": [
        "Univariate Vizualizations"
      ]
    },
    {
      "cell_type": "code",
      "metadata": {
        "colab": {
          "base_uri": "https://localhost:8080/",
          "height": 264
        },
        "id": "BdnbUe3bm0P5",
        "outputId": "0e0bfe6b-3540-4d05-b6a8-1a005cb1ab8c"
      },
      "source": [
        "from matplotlib import pyplot as plt\n",
        "plt.plot([1,2,3],[1,2,3])\n",
        "plt.show()"
      ],
      "execution_count": null,
      "outputs": [
        {
          "output_type": "display_data",
          "data": {
            "image/png": "[encoded data removed]",
            "text/plain": [
              "<Figure size 432x288 with 1 Axes>"
            ]
          },
          "metadata": {
            "tags": [],
            "needs_background": "light"
          }
        }
      ]
    },
    {
      "cell_type": "code",
      "metadata": {
        "colab": {
          "base_uri": "https://localhost:8080/",
          "height": 294
        },
        "id": "A_OsUQfbnEbf",
        "outputId": "742e2b2c-1f97-44b4-adb4-f441bab2a8c6"
      },
      "source": [
        "plt.plot([1,2,3],[1,2,3])\n",
        "plt.xlabel('X axis')\n",
        "plt.ylabel('Y axis')\n",
        "plt.title('Title')\n",
        "plt.show()"
      ],
      "execution_count": null,
      "outputs": [
        {
          "output_type": "display_data",
          "data": {
            "image/png": "[encoded data removed]",
            "text/plain": [
              "<Figure size 432x288 with 1 Axes>"
            ]
          },
          "metadata": {
            "tags": [],
            "needs_background": "light"
          }
        }
      ]
    },
    {
      "cell_type": "code",
      "metadata": {
        "colab": {
          "base_uri": "https://localhost:8080/",
          "height": 294
        },
        "id": "8SyqWqgSnjqB",
        "outputId": "b3389e56-c627-441e-b694-cf88ea593ce2"
      },
      "source": [
        "plt.plot([1,2,3],[1,2,3], label = 'Line 1')\n",
        "plt.plot([1,2,3], [2,3,4], label = 'Line 2')\n",
        "plt.xlabel('X axis')\n",
        "plt.ylabel('Y axis')\n",
        "plt.title('Title')\n",
        "plt.legend()\n",
        "plt.show()"
      ],
      "execution_count": null,
      "outputs": [
        {
          "output_type": "display_data",
          "data": {
            "image/png": "[encoded data removed]",
            "text/plain": [
              "<Figure size 432x288 with 1 Axes>"
            ]
          },
          "metadata": {
            "tags": [],
            "needs_background": "light"
          }
        }
      ]
    },
    {
      "cell_type": "code",
      "metadata": {
        "colab": {
          "base_uri": "https://localhost:8080/",
          "height": 294
        },
        "id": "hzZRRhEon4dR",
        "outputId": "93cabd02-746e-481b-b8c0-9e11d9034bee"
      },
      "source": [
        "plt.plot([1,2,3],[1,2,3], label = 'Line 1', color = \"g\")\n",
        "plt.plot([1,2,3],[2,3,4], label = 'Line 2', color = 'blue')\n",
        "plt.plot([1,2,3],[3,4,5], label = 'Line 3', color = '#ff0000')\n",
        "\n",
        "        #labels\n",
        "plt.xlabel('X axis')\n",
        "plt.ylabel('Y axis')\n",
        "\n",
        "        #title\n",
        "plt.title('Title')\n",
        "\n",
        "        #legend\n",
        "plt.legend()\n",
        "\n",
        "        #show the plot\n",
        "plt.show()"
      ],
      "execution_count": null,
      "outputs": [
        {
          "output_type": "display_data",
          "data": {
            "image/png": "[encoded data removed]",
            "text/plain": [
              "<Figure size 432x288 with 1 Axes>"
            ]
          },
          "metadata": {
            "tags": [],
            "needs_background": "light"
          }
        }
      ]
    },
    {
      "cell_type": "code",
      "metadata": {
        "colab": {
          "base_uri": "https://localhost:8080/",
          "height": 294
        },
        "id": "yIcQNAWMpt3h",
        "outputId": "9046b921-f75a-4488-809a-d9836d53ddd4"
      },
      "source": [
        "plt.plot([1,2,3],[1,2,3], label = 'Line 1', color = \"g\", marker=\"*\")\n",
        "plt.plot([1,2,3],[2,3,4], label = 'Line 2', color = 'blue', marker=\"x\")\n",
        "plt.plot([1,2,3],[3,4,5], label = 'Line 3', color = '#ff0000', marker=\"o\")\n",
        "\n",
        "        #labels\n",
        "plt.xlabel('X axis')\n",
        "plt.ylabel('Y axis')\n",
        "\n",
        "        #title\n",
        "plt.title('Title')\n",
        "\n",
        "        #legend\n",
        "plt.legend()\n",
        "\n",
        "        #show the plot\n",
        "plt.show()"
      ],
      "execution_count": null,
      "outputs": [
        {
          "output_type": "display_data",
          "data": {
            "image/png": "[encoded data removed]",
            "text/plain": [
              "<Figure size 432x288 with 1 Axes>"
            ]
          },
          "metadata": {
            "tags": [],
            "needs_background": "light"
          }
        }
      ]
    },
    {
      "cell_type": "code",
      "metadata": {
        "colab": {
          "base_uri": "https://localhost:8080/",
          "height": 282
        },
        "id": "Zm1YVhb-qScy",
        "outputId": "88d4b673-84e7-4b62-f3b2-e15a4eff404e"
      },
      "source": [
        "plt.plot(df['age'], df['chol'], color = 'red', marker = 'x')"
      ],
      "execution_count": null,
      "outputs": [
        {
          "output_type": "execute_result",
          "data": {
            "text/plain": [
              "[<matplotlib.lines.Line2D at 0x7fc8e2fcef50>]"
            ]
          },
          "metadata": {
            "tags": []
          },
          "execution_count": 22
        },
        {
          "output_type": "display_data",
          "data": {
            "image/png": "[encoded data removed]",
            "text/plain": [
              "<Figure size 432x288 with 1 Axes>"
            ]
          },
          "metadata": {
            "tags": [],
            "needs_background": "light"
          }
        }
      ]
    },
    {
      "cell_type": "code",
      "metadata": {
        "colab": {
          "base_uri": "https://localhost:8080/",
          "height": 278
        },
        "id": "W2nsr4a6qlg0",
        "outputId": "0ba834fc-58a7-4a78-c8c1-8efa01c3613a"
      },
      "source": [
        "plt.hist(df['chol'])\n",
        "plt.xlabel('Cholestorol Level')\n",
        "plt.ylabel('count')\n",
        "plt.show()"
      ],
      "execution_count": null,
      "outputs": [
        {
          "output_type": "display_data",
          "data": {
            "image/png": "[encoded data removed]",
            "text/plain": [
              "<Figure size 432x288 with 1 Axes>"
            ]
          },
          "metadata": {
            "tags": [],
            "needs_background": "light"
          }
        }
      ]
    },
    {
      "cell_type": "code",
      "metadata": {
        "colab": {
          "base_uri": "https://localhost:8080/",
          "height": 294
        },
        "id": "9Y5sfPT5q7jl",
        "outputId": "d67d5896-aa34-4bc0-a4de-55323ab80213"
      },
      "source": [
        "df = pd.read_csv('http://www.ishelp.info/data/insurance.csv')\n",
        "plt.hist(df.charges, bins=50)\n",
        "plt.title('Insurance Charges')\n",
        "plt.xlabel('charges')\n",
        "plt.ylabel('count')\n",
        "plt.savefig('/content/drive/MyDrive/Colab Notebooks/Images/charges_hist.png')\n",
        "plt.show();"
      ],
      "execution_count": null,
      "outputs": [
        {
          "output_type": "display_data",
          "data": {
            "image/png": "[encoded data removed]",
            "text/plain": [
              "<Figure size 432x288 with 1 Axes>"
            ]
          },
          "metadata": {
            "tags": [],
            "needs_background": "light"
          }
        }
      ]
    },
    {
      "cell_type": "code",
      "metadata": {
        "colab": {
          "base_uri": "https://localhost:8080/",
          "height": 294
        },
        "id": "2hrIejJar6Tr",
        "outputId": "1a03fcac-4ded-4d1a-fc1b-aa015ecb7209"
      },
      "source": [
        "# To calculate the cubed root, raise n (sample size) to the 1/3 power:\n",
        "plt.hist(df.charges, bins=int(round(df.charges.count()**(1/3), 0)))\n",
        "plt.title('Insurance Charges')\n",
        "plt.xlabel('charges')\n",
        "plt.ylabel('count')\n",
        "plt.show()"
      ],
      "execution_count": null,
      "outputs": [
        {
          "output_type": "display_data",
          "data": {
            "image/png": "[encoded data removed]",
            "text/plain": [
              "<Figure size 432x288 with 1 Axes>"
            ]
          },
          "metadata": {
            "tags": [],
            "needs_background": "light"
          }
        }
      ]
    },
    {
      "cell_type": "code",
      "metadata": {
        "colab": {
          "base_uri": "https://localhost:8080/"
        },
        "id": "284D1ires4ps",
        "outputId": "39220af7-a9cf-4e7b-8e6d-e07a393ae63c"
      },
      "source": [
        "df.skew()"
      ],
      "execution_count": null,
      "outputs": [
        {
          "output_type": "execute_result",
          "data": {
            "text/plain": [
              "age         0.055673\n",
              "bmi         0.284047\n",
              "children    0.938380\n",
              "charges     1.515880\n",
              "dtype: float64"
            ]
          },
          "metadata": {
            "tags": []
          },
          "execution_count": 34
        }
      ]
    },
    {
      "cell_type": "code",
      "metadata": {
        "colab": {
          "base_uri": "https://localhost:8080/",
          "height": 294
        },
        "id": "ysbuNUm8s4cB",
        "outputId": "695e0bae-f9b8-429e-97ea-51b3105a50c0"
      },
      "source": [
        "plt.hist(df.charges, bins=int(round(df.charges.count()**(1/3), 0)))\n",
        "plt.title('Insurance Charges')\n",
        "plt.xlabel('charges')\n",
        "plt.ylabel('count')\n",
        "\n",
        "plt.axvline(df.charges.mean(), color='k', linestyle='dashed', linewidth=1)\n",
        "plt.show()"
      ],
      "execution_count": null,
      "outputs": [
        {
          "output_type": "display_data",
          "data": {
            "image/png": "[encoded data removed]",
            "text/plain": [
              "<Figure size 432x288 with 1 Axes>"
            ]
          },
          "metadata": {
            "tags": [],
            "needs_background": "light"
          }
        }
      ]
    },
    {
      "cell_type": "markdown",
      "metadata": {
        "id": "G1me4NrVup4U"
      },
      "source": [
        "This is on chapter 24"
      ]
    },
    {
      "cell_type": "code",
      "metadata": {
        "id": "zTeezKdnupPe",
        "colab": {
          "base_uri": "https://localhost:8080/",
          "height": 294
        },
        "outputId": "d7ac8b95-428f-4c8d-f625-f3ad50050989"
      },
      "source": [
        "from matplotlib import pyplot as plt\n",
        "import pandas as pd\n",
        "\n",
        "df = pd.read_csv('http://www.ishelp.info/data/insurance.csv')\n",
        "plt.hist(df.charges, bins=int(round(df.charges.count()**(1/3), 0)))\n",
        "\n",
        "text  = 'Std dev: ' + str(round(df.charges.std(), 2)) + '\\n'\n",
        "text += 'Mean: ' + str(round(df.charges.mean(), 2)) + '\\n'\n",
        "text += 'Skew: ' + str(round(df.charges.skew(), 2)) + '\\n'\n",
        "text += 'Kurt: ' + str(round(df.charges.kurt(), 2))\n",
        "\n",
        "# plt.text(horizontal position, vertical position, text, ...)\n",
        "#          vertical and horizontal positions are percents on decimal form from 0 to 1\n",
        "#          vertical=0 starts at the far left; higher numbers push the text right\n",
        "#          horizontal=0 starts at the bottom; higher  numbers push the text up\n",
        "plt.text(0.35, 0.5, text, fontsize=10, transform=plt.gcf().transFigure)\n",
        "plt.axvline(df.charges.mean(), color='k', linestyle='dashed', linewidth=1)\n",
        "plt.title('Insurance Charges')\n",
        "plt.xlabel('Charges')\n",
        "plt.ylabel('count')\n",
        "plt.savefig('/content/drive/MyDrive/Colab Notebooks/Images/charges_detail.png')\n",
        "plt.show()"
      ],
      "execution_count": null,
      "outputs": [
        {
          "output_type": "display_data",
          "data": {
            "image/png": "[encoded data removed]",
            "text/plain": [
              "<Figure size 432x288 with 1 Axes>"
            ]
          },
          "metadata": {
            "tags": [],
            "needs_background": "light"
          }
        }
      ]
    },
    {
      "cell_type": "code",
      "metadata": {
        "colab": {
          "base_uri": "https://localhost:8080/",
          "height": 381
        },
        "id": "C9LCTYRTvl2h",
        "outputId": "61533f24-ea44-457e-e8e9-b5f5fbb6b6d3"
      },
      "source": [
        "import pandas as pd\n",
        "import seaborn as sns\n",
        "import matplotlib.pyplot as plt\n",
        "\n",
        "df = pd.read_csv('http://www.ishelp.info/data/insurance.csv')\n",
        "\n",
        "text =  'Std dev: ' + str(round(df.charges.std(), 2)) + '\\n'\n",
        "text += 'Mean: ' + str(round(df.charges.mean(), 2)) + '\\n'\n",
        "text += 'Skew: ' + str(round(df.charges.skew(), 2)) + '\\n'\n",
        "text += 'Kurt: ' + str(round(df.charges.kurt(), 2))\n",
        "\n",
        "ax = sns.distplot(df.charges, rug=True)\n",
        "tx = ax.text(0.4, 0.5, text, fontsize=10, transform=plt.gcf().transFigure)\n",
        "plt.savefig('/content/drive/MyDrive/Colab Notebooks/Images/charges.png', dpi=100) # Must appear before plt.show()\n",
        "# plt.savefig('D:\\Google Drive\\Colab Notebooks\\images\\charges.png') # Use this to specify a different folder"
      ],
      "execution_count": null,
      "outputs": [
        {
          "output_type": "stream",
          "text": [
            "/usr/local/lib/python3.7/dist-packages/seaborn/distributions.py:2557: FutureWarning: `distplot` is a deprecated function and will be removed in a future version. Please adapt your code to use either `displot` (a figure-level function with similar flexibility) or `histplot` (an axes-level function for histograms).\n",
            "  warnings.warn(msg, FutureWarning)\n",
            "/usr/local/lib/python3.7/dist-packages/seaborn/distributions.py:2056: FutureWarning: The `axis` variable is no longer used and will be removed. Instead, assign variables directly to `x` or `y`.\n",
            "  warnings.warn(msg, FutureWarning)\n"
          ],
          "name": "stderr"
        },
        {
          "output_type": "display_data",
          "data": {
            "image/png": "[encoded data removed]",
            "text/plain": [
              "<Figure size 432x288 with 1 Axes>"
            ]
          },
          "metadata": {
            "tags": [],
            "needs_background": "light"
          }
        }
      ]
    },
    {
      "cell_type": "code",
      "metadata": {
        "id": "J989N2BSwpu_"
      },
      "source": [
        ""
      ],
      "execution_count": null,
      "outputs": []
    }
  ]
}